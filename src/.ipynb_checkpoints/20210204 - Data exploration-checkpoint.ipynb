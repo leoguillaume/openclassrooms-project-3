{
 "cells": [
  {
   "cell_type": "markdown",
   "metadata": {},
   "source": [
    "Objectif: estimer le nutriscore d'un produit"
   ]
  },
  {
   "cell_type": "markdown",
   "metadata": {},
   "source": [
    "## Imports and config"
   ]
  },
  {
   "cell_type": "code",
   "execution_count": 1,
   "metadata": {},
   "outputs": [],
   "source": [
    "import pandas as pd\n",
    "import numpy as np\n",
    "import matplotlib.pyplot as plt\n",
    "import seaborn as sns\n",
    "import warnings, re, requests, os, urllib.request\n",
    "from tqdm import tqdm\n",
    "from IPython.display import display\n",
    "from sklearn.model_selection import train_test_split"
   ]
  },
  {
   "cell_type": "code",
   "execution_count": 2,
   "metadata": {},
   "outputs": [],
   "source": [
    "warnings.filterwarnings('ignore')\n",
    "tqdm.pandas()\n",
    "pd.set_option(\"display.max_columns\", 200)"
   ]
  },
  {
   "cell_type": "code",
   "execution_count": 4,
   "metadata": {},
   "outputs": [],
   "source": [
    "storage_path = os.path.join('..', 'data')\n",
    "filepath = os.path.join(storage_path, 'en.openfoodfacts.org.products.pkl')\n",
    "df = pd.read_pickle(filepath)"
   ]
  },
  {
   "cell_type": "markdown",
   "metadata": {},
   "source": [
    "## EDA"
   ]
  },
  {
   "cell_type": "code",
   "execution_count": 5,
   "metadata": {},
   "outputs": [
    {
     "name": "stdout",
     "output_type": "stream",
     "text": [
      "<class 'pandas.core.frame.DataFrame'>\n",
      "RangeIndex: 1615984 entries, 0 to 1615983\n",
      "Data columns (total 184 columns):\n",
      " #   Column                                      Non-Null Count    Dtype  \n",
      "---  ------                                      --------------    -----  \n",
      " 0   code                                        1615984 non-null  object \n",
      " 1   url                                         1615984 non-null  object \n",
      " 2   creator                                     1615980 non-null  object \n",
      " 3   created_t                                   1615984 non-null  int64  \n",
      " 4   created_datetime                            1615984 non-null  object \n",
      " 5   last_modified_t                             1615984 non-null  int64  \n",
      " 6   last_modified_datetime                      1615984 non-null  object \n",
      " 7   product_name                                1526408 non-null  object \n",
      " 8   abbreviated_product_name                    922 non-null      object \n",
      " 9   generic_name                                109723 non-null   object \n",
      " 10  quantity                                    436669 non-null   object \n",
      " 11  packaging                                   263584 non-null   object \n",
      " 12  packaging_tags                              263561 non-null   object \n",
      " 13  packaging_text                              1909 non-null     object \n",
      " 14  brands                                      872905 non-null   object \n",
      " 15  brands_tags                                 872848 non-null   object \n",
      " 16  categories                                  806620 non-null   object \n",
      " 17  categories_tags                             806618 non-null   object \n",
      " 18  categories_en                               806618 non-null   object \n",
      " 19  origins                                     70598 non-null    object \n",
      " 20  origins_tags                                70485 non-null    object \n",
      " 21  origins_en                                  70485 non-null    object \n",
      " 22  manufacturing_places                        106691 non-null   object \n",
      " 23  manufacturing_places_tags                   106644 non-null   object \n",
      " 24  labels                                      370512 non-null   object \n",
      " 25  labels_tags                                 370536 non-null   object \n",
      " 26  labels_en                                   370536 non-null   object \n",
      " 27  emb_codes                                   105987 non-null   object \n",
      " 28  emb_codes_tags                              105958 non-null   object \n",
      " 29  first_packaging_code_geo                    65875 non-null    object \n",
      " 30  cities                                      0 non-null        float64\n",
      " 31  cities_tags                                 71046 non-null    object \n",
      " 32  purchase_places                             145926 non-null   object \n",
      " 33  stores                                      213893 non-null   object \n",
      " 34  countries                                   1610820 non-null  object \n",
      " 35  countries_tags                              1610817 non-null  object \n",
      " 36  countries_en                                1610817 non-null  object \n",
      " 37  ingredients_text                            670265 non-null   object \n",
      " 38  allergens                                   176980 non-null   object \n",
      " 39  allergens_en                                0 non-null        float64\n",
      " 40  traces                                      89469 non-null    object \n",
      " 41  traces_tags                                 111843 non-null   object \n",
      " 42  traces_en                                   111843 non-null   object \n",
      " 43  serving_size                                451503 non-null   object \n",
      " 44  serving_quantity                            452276 non-null   float64\n",
      " 45  no_nutriments                               0 non-null        float64\n",
      " 46  additives_n                                 670266 non-null   float64\n",
      " 47  additives                                   5 non-null        object \n",
      " 48  additives_tags                              388836 non-null   object \n",
      " 49  additives_en                                388836 non-null   object \n",
      " 50  ingredients_from_palm_oil_n                 670266 non-null   float64\n",
      " 51  ingredients_from_palm_oil                   0 non-null        float64\n",
      " 52  ingredients_from_palm_oil_tags              13723 non-null    object \n",
      " 53  ingredients_that_may_be_from_palm_oil_n     670266 non-null   float64\n",
      " 54  ingredients_that_may_be_from_palm_oil       0 non-null        float64\n",
      " 55  ingredients_that_may_be_from_palm_oil_tags  39348 non-null    object \n",
      " 56  nutriscore_score                            628740 non-null   float64\n",
      " 57  nutriscore_grade                            628740 non-null   object \n",
      " 58  nova_group                                  586586 non-null   float64\n",
      " 59  pnns_groups_1                               1599886 non-null  object \n",
      " 60  pnns_groups_2                               1615273 non-null  object \n",
      " 61  states                                      1615984 non-null  object \n",
      " 62  states_tags                                 1615984 non-null  object \n",
      " 63  states_en                                   1615984 non-null  object \n",
      " 64  brand_owner                                 289288 non-null   object \n",
      " 65  main_category                               806618 non-null   object \n",
      " 66  main_category_en                            806618 non-null   object \n",
      " 67  image_url                                   1161073 non-null  object \n",
      " 68  image_small_url                             1161073 non-null  object \n",
      " 69  image_ingredients_url                       657125 non-null   object \n",
      " 70  image_ingredients_small_url                 657125 non-null   object \n",
      " 71  image_nutrition_url                         720942 non-null   object \n",
      " 72  image_nutrition_small_url                   720942 non-null   object \n",
      " 73  energy-kj_100g                              118549 non-null   float64\n",
      " 74  energy-kcal_100g                            1206980 non-null  float64\n",
      " 75  energy_100g                                 1273700 non-null  float64\n",
      " 76  energy-from-fat_100g                        977 non-null      float64\n",
      " 77  fat_100g                                    1264694 non-null  float64\n",
      " 78  saturated-fat_100g                          1218668 non-null  float64\n",
      " 79  -butyric-acid_100g                          7 non-null        float64\n",
      " 80  -caproic-acid_100g                          2 non-null        float64\n",
      " 81  -caprylic-acid_100g                         3 non-null        float64\n",
      " 82  -capric-acid_100g                           7 non-null        float64\n",
      " 83  -lauric-acid_100g                           11 non-null       float64\n",
      " 84  -myristic-acid_100g                         2 non-null        float64\n",
      " 85  -palmitic-acid_100g                         6 non-null        float64\n",
      " 86  -stearic-acid_100g                          4 non-null        float64\n",
      " 87  -arachidic-acid_100g                        61 non-null       float64\n",
      " 88  -behenic-acid_100g                          25 non-null       float64\n",
      " 89  -lignoceric-acid_100g                       0 non-null        float64\n",
      " 90  -cerotic-acid_100g                          4 non-null        float64\n",
      " 91  -montanic-acid_100g                         4 non-null        float64\n",
      " 92  -melissic-acid_100g                         4 non-null        float64\n",
      " 93  monounsaturated-fat_100g                    47086 non-null    float64\n",
      " 94  polyunsaturated-fat_100g                    47108 non-null    float64\n",
      " 95  omega-3-fat_100g                            1917 non-null     float64\n",
      " 96  -alpha-linolenic-acid_100g                  427 non-null      float64\n",
      " 97  -eicosapentaenoic-acid_100g                 114 non-null      object \n",
      " 98  -docosahexaenoic-acid_100g                  157 non-null      float64\n",
      " 99  omega-6-fat_100g                            472 non-null      float64\n",
      " 100 -linoleic-acid_100g                         225 non-null      float64\n",
      " 101 -arachidonic-acid_100g                      58 non-null       float64\n",
      " 102 -gamma-linolenic-acid_100g                  6 non-null        float64\n",
      " 103 -dihomo-gamma-linolenic-acid_100g           1 non-null        float64\n",
      " 104 omega-9-fat_100g                            64 non-null       float64\n",
      " 105 -oleic-acid_100g                            29 non-null       float64\n",
      " 106 -elaidic-acid_100g                          0 non-null        float64\n",
      " 107 -gondoic-acid_100g                          7 non-null        float64\n",
      " 108 -mead-acid_100g                             1 non-null        float64\n",
      " 109 -erucic-acid_100g                           1 non-null        float64\n",
      " 110 -nervonic-acid_100g                         0 non-null        float64\n",
      " 111 trans-fat_100g                              264345 non-null   float64\n",
      " 112 cholesterol_100g                            268172 non-null   float64\n",
      " 113 carbohydrates_100g                          1264095 non-null  float64\n",
      " 114 sugars_100g                                 1243713 non-null  float64\n",
      " 115 -sucrose_100g                               128 non-null      float64\n",
      " 116 -glucose_100g                               61 non-null       float64\n",
      " 117 -fructose_100g                              76 non-null       float64\n",
      " 118 -lactose_100g                               742 non-null      float64\n",
      " 119 -maltose_100g                               12 non-null       float64\n",
      " 120 -maltodextrins_100g                         31 non-null       float64\n",
      " 121 starch_100g                                 470 non-null      float64\n",
      " 122 polyols_100g                                3502 non-null     float64\n",
      " 123 fiber_100g                                  458392 non-null   float64\n",
      " 124 -soluble-fiber_100g                         3604 non-null     float64\n",
      " 125 -insoluble-fiber_100g                       3333 non-null     float64\n",
      " 126 proteins_100g                               1265703 non-null  float64\n",
      " 127 casein_100g                                 42 non-null       float64\n",
      " 128 serum-proteins_100g                         41 non-null       float64\n",
      " 129 nucleotides_100g                            14 non-null       float64\n",
      " 130 salt_100g                                   1233754 non-null  float64\n",
      " 131 sodium_100g                                 1233750 non-null  float64\n",
      " 132 alcohol_100g                                18200 non-null    float64\n",
      " 133 vitamin-a_100g                              212040 non-null   float64\n",
      " 134 beta-carotene_100g                          82 non-null       float64\n",
      " 135 vitamin-d_100g                              9362 non-null     float64\n",
      " 136 vitamin-e_100g                              3216 non-null     float64\n",
      " 137 vitamin-k_100g                              1092 non-null     float64\n",
      " 138 vitamin-c_100g                              219608 non-null   float64\n",
      " 139 vitamin-b1_100g                             23276 non-null    float64\n",
      " 140 vitamin-b2_100g                             22375 non-null    float64\n",
      " 141 vitamin-pp_100g                             23473 non-null    float64\n",
      " 142 vitamin-b6_100g                             15733 non-null    float64\n",
      " 143 vitamin-b9_100g                             9983 non-null     float64\n",
      " 144 folates_100g                                8429 non-null     float64\n",
      " 145 vitamin-b12_100g                            12442 non-null    float64\n",
      " 146 biotin_100g                                 1005 non-null     float64\n",
      " 147 pantothenic-acid_100g                       5938 non-null     float64\n",
      " 148 silica_100g                                 113 non-null      float64\n",
      " 149 bicarbonate_100g                            370 non-null      float64\n",
      " 150 potassium_100g                              91627 non-null    float64\n",
      " 151 chloride_100g                               669 non-null      float64\n",
      " 152 calcium_100g                                269233 non-null   float64\n",
      " 153 phosphorus_100g                             13583 non-null    float64\n",
      " 154 iron_100g                                   264222 non-null   float64\n",
      " 155 magnesium_100g                              14510 non-null    float64\n",
      " 156 zinc_100g                                   10062 non-null    float64\n",
      " 157 copper_100g                                 4228 non-null     float64\n",
      " 158 manganese_100g                              3988 non-null     float64\n",
      " 159 fluoride_100g                               317 non-null      float64\n",
      " 160 selenium_100g                               2420 non-null     float64\n",
      " 161 chromium_100g                               179 non-null      float64\n",
      " 162 molybdenum_100g                             248 non-null      float64\n",
      " 163 iodine_100g                                 2046 non-null     float64\n",
      " 164 caffeine_100g                               402 non-null      float64\n",
      " 165 taurine_100g                                145 non-null      float64\n",
      " 166 ph_100g                                     175 non-null      float64\n",
      " 167 fruits-vegetables-nuts_100g                 8741 non-null     float64\n",
      " 168 fruits-vegetables-nuts-dried_100g           346 non-null      float64\n",
      " 169 fruits-vegetables-nuts-estimate_100g        11694 non-null    float64\n",
      " 170 collagen-meat-protein-ratio_100g            307 non-null      float64\n",
      " 171 cocoa_100g                                  5782 non-null     float64\n",
      " 172 chlorophyl_100g                             4 non-null        float64\n",
      " 173 carbon-footprint_100g                       447 non-null      float64\n",
      " 174 carbon-footprint-from-meat-or-fish_100g     11254 non-null    float64\n",
      " 175 nutrition-score-fr_100g                     628740 non-null   float64\n",
      " 176 nutrition-score-uk_100g                     0 non-null        float64\n",
      " 177 glycemic-index_100g                         4 non-null        float64\n",
      " 178 water-hardness_100g                         0 non-null        float64\n",
      " 179 choline_100g                                41 non-null       float64\n",
      " 180 phylloquinone_100g                          1713 non-null     float64\n",
      " 181 beta-glucan_100g                            28 non-null       float64\n",
      " 182 inositol_100g                               47 non-null       float64\n",
      " 183 carnitine_100g                              20 non-null       float64\n",
      "dtypes: float64(121), int64(2), object(61)\n",
      "memory usage: 2.2+ GB\n"
     ]
    }
   ],
   "source": [
    "df.info(verbose = True, null_counts = True)"
   ]
  },
  {
   "cell_type": "code",
   "execution_count": 6,
   "metadata": {},
   "outputs": [],
   "source": [
    "# fetching features categories\n",
    "url = 'https://world.openfoodfacts.org/data/data-fields.txt'\n",
    "features_description = requests.get(url).text\n",
    "features_dict = {i.split('\\n\\n')[0].strip()[:-1]: \n",
    "                 [j.split(':')[0].strip() for j in i.split('\\n\\n')[1].strip().split('\\n')]\n",
    "                 for i in features_description.split('#')[1:]}"
   ]
  },
  {
   "cell_type": "code",
   "execution_count": 7,
   "metadata": {},
   "outputs": [],
   "source": [
    "# clean features names\n",
    "df.columns = [c[1:] if c.startswith('-') else c for c in df.columns]"
   ]
  },
  {
   "cell_type": "markdown",
   "metadata": {},
   "source": [
    "### Missing values\n",
    "\n",
    "Analyse des valeurs manquantes doit se réaliser uniquement sur les produits qui ont un nutriscore puisque ce sont nos données labélisées."
   ]
  },
  {
   "cell_type": "code",
   "execution_count": 8,
   "metadata": {},
   "outputs": [],
   "source": [
    "_df_nutriscore_score = df.loc[df.nutriscore_score.notna()]"
   ]
  },
  {
   "cell_type": "code",
   "execution_count": 9,
   "metadata": {},
   "outputs": [
    {
     "data": {
      "image/png": "[encoded data removed]",
      "text/plain": [
       "<Figure size 1296x216 with 1 Axes>"
      ]
     },
     "metadata": {
      "needs_background": "light"
     },
     "output_type": "display_data"
    },
    {
     "data": {
      "image/png": "[encoded data removed]",
      "text/plain": [
       "<Figure size 1296x216 with 1 Axes>"
      ]
     },
     "metadata": {
      "needs_background": "light"
     },
     "output_type": "display_data"
    },
    {
     "data": {
      "image/png": "[encoded data removed]",
      "text/plain": [
       "<Figure size 1296x216 with 1 Axes>"
      ]
     },
     "metadata": {
      "needs_background": "light"
     },
     "output_type": "display_data"
    },
    {
     "data": {
      "image/png": "[encoded data removed]",
      "text/plain": [
       "<Figure size 1296x216 with 1 Axes>"
      ]
     },
     "metadata": {
      "needs_background": "light"
     },
     "output_type": "display_data"
    },
    {
     "data": {
      "image/png": "[encoded data removed]",
      "text/plain": [
       "<Figure size 1296x216 with 1 Axes>"
      ]
     },
     "metadata": {
      "needs_background": "light"
     },
     "output_type": "display_data"
    }
   ],
   "source": [
    "for cat in features_dict.keys():\n",
    "    features = _df_nutriscore_score.columns[_df_nutriscore_score.columns.isin(features_dict[cat])]\n",
    "    serie = (_df_nutriscore_score[features].isnull().sum() / len(_df_nutriscore_score[features])).sort_values(ascending = False)\n",
    "    plt.figure(figsize = (18, 3))\n",
    "    plt.title(cat, weight = 'bold')\n",
    "    sns.barplot(serie.index, serie.values)\n",
    "    plt.xticks(rotation = 90)\n",
    "    plt.show()"
   ]
  },
  {
   "cell_type": "markdown",
   "metadata": {},
   "source": [
    "Il y a beaucoup de valeur nulles pour les valeurs nutritionnelles des produits. De plus, le nutri-score des aliments repose sur le calcul d’un score unique et global prenant en compte, pour chaque aliment :\n",
    "\n",
    "- une composante dite « négative » N composée des nutriments et aliments à favoriser (fibres, protéines, fruits, légumes, légumineuses, fruits à coques, huile de colza, de noix et d’olive),\n",
    "- une composante dite « positive » P composée des nutriments à limiter (énergie, acides gras saturés, sucres, sel).\n",
    "\n",
    "Autrements dit le nutri-score d'un produit se calcule sur la base des valeurs nutritionnelles des aliments qui le compose, cela n'apporte pas de plus-value de réaliser la prédiction d'un score sur les éléments qui le compose. Il est plus interessant d'estimer le nutriscore à travers d'autres variables que liées aux valeurs nutritionnelles.\n",
    "\n",
    "Quelles sont les variables hors valeurs nutritionnelles les plus complètes ?"
   ]
  },
  {
   "cell_type": "code",
   "execution_count": 10,
   "metadata": {},
   "outputs": [],
   "source": [
    "# features without nutrition facts\n",
    "_features = [f for key, value in features_dict.items() for f in value if key != 'nutrition facts']"
   ]
  },
  {
   "cell_type": "code",
   "execution_count": 11,
   "metadata": {},
   "outputs": [],
   "source": [
    "# remove features in documentation that are not in dataframe\n",
    "_features = list(set(_features).intersection(set(df.columns)))"
   ]
  },
  {
   "cell_type": "markdown",
   "metadata": {},
   "source": [
    "Dans ces features certaines attraient à seulement à des considérations autres que les produits, comme code ou url, il convient de les supprimer."
   ]
  },
  {
   "cell_type": "code",
   "execution_count": 12,
   "metadata": {},
   "outputs": [],
   "source": [
    "_features_to_remove = ['code', 'url', 'creator', 'created_datetime', 'created_t', 'last_modified_datetime', 'last_modified_t']\n",
    "\n",
    "_features = [f for f in _features if f not in _features_to_remove]"
   ]
  },
  {
   "cell_type": "code",
   "execution_count": 13,
   "metadata": {},
   "outputs": [
    {
     "data": {
      "text/plain": [
       "41"
      ]
     },
     "execution_count": 13,
     "metadata": {},
     "output_type": "execute_result"
    }
   ],
   "source": [
    "len(_features)"
   ]
  },
  {
   "cell_type": "code",
   "execution_count": 14,
   "metadata": {},
   "outputs": [],
   "source": [
    "_df_nutriscore_score_wo_nutri_facts = df[_features].loc[df.nutriscore_score.notna()]"
   ]
  },
  {
   "cell_type": "code",
   "execution_count": 15,
   "metadata": {},
   "outputs": [],
   "source": [
    "_serie = (_df_nutriscore_score_wo_nutri_facts.isnull().sum() / len(_df_nutriscore_score_wo_nutri_facts)).sort_values(ascending = False)"
   ]
  },
  {
   "cell_type": "code",
   "execution_count": 16,
   "metadata": {},
   "outputs": [
    {
     "data": {
      "image/png": "[encoded data removed]",
      "text/plain": [
       "<Figure size 1296x216 with 1 Axes>"
      ]
     },
     "metadata": {
      "needs_background": "light"
     },
     "output_type": "display_data"
    }
   ],
   "source": [
    "plt.figure(figsize = (18, 3))\n",
    "plt.title('missing values rates', weight = 'bold')\n",
    "sns.barplot(_serie.index, _serie.values)\n",
    "plt.xticks(rotation = 90)\n",
    "x = np.arange(-2, len(_features) + 1)\n",
    "y = np.ones(len(_features) + 3)*_serie.mean()\n",
    "plt.plot(x, y, c = 'red')\n",
    "plt.text(x = -2, y = _serie.mean() + 0.02, s = 'Mean', c = 'red')\n",
    "plt.show()"
   ]
  },
  {
   "cell_type": "code",
   "execution_count": 17,
   "metadata": {},
   "outputs": [
    {
     "data": {
      "text/plain": [
       "count    41.000\n",
       "mean      0.615\n",
       "std       0.357\n",
       "min       0.000\n",
       "25%       0.277\n",
       "50%       0.716\n",
       "75%       0.923\n",
       "max       1.000\n",
       "dtype: float64"
      ]
     },
     "execution_count": 17,
     "metadata": {},
     "output_type": "execute_result"
    }
   ],
   "source": [
    "# missing values rates statistical description\n",
    "round(_serie.describe(), 3)"
   ]
  },
  {
   "cell_type": "markdown",
   "metadata": {},
   "source": [
    "Le taux de valeurs manquantes est pour la moitié des variables supérieur à 71% ce qui reste très élevé. Dans un premier nn va s'interresser uniquement aux variables dont le taux est supérieur à la moyenne des taux de valeur manquantes (61,5%). S'il s'avère que ces variables ne suffisent pas pour estimer correctement le nutriscore, on reviendra sur les variables exclues dans un second en leur appliquant des méthodes d'imputation des valeurs manquantes plus puissante (cf. [MICE](https://stats.stackexchange.com/questions/421545/multiple-imputation-by-chained-equations-mice-explained))."
   ]
  },
  {
   "cell_type": "code",
   "execution_count": 18,
   "metadata": {},
   "outputs": [],
   "source": [
    "_feature_to_keep = _serie[_serie < _serie.mean()].index.tolist()\n",
    "_feature_to_keep += ['nutriscore_score', 'nutriscore_grade']"
   ]
  },
  {
   "cell_type": "code",
   "execution_count": 19,
   "metadata": {},
   "outputs": [],
   "source": [
    "_df = df[_feature_to_keep]"
   ]
  },
  {
   "cell_type": "markdown",
   "metadata": {},
   "source": [
    "Le jeu de données est divisé en:\n",
    "- un jeu de prédiction (données non labelisées)\n",
    "- un jeu de test (20%)\n",
    "- un jeu d'entrainement (80%)"
   ]
  },
  {
   "cell_type": "code",
   "execution_count": 20,
   "metadata": {},
   "outputs": [],
   "source": [
    "_df_no_lab = _df.loc[_df.nutriscore_score.isna()]\n",
    "_df_lab = _df.loc[_df.nutriscore_score.notna()]"
   ]
  },
  {
   "cell_type": "code",
   "execution_count": 21,
   "metadata": {},
   "outputs": [],
   "source": [
    "X = _df_lab.drop(columns = ['nutriscore_grade'])\n",
    "y = _df_lab.nutriscore_grade"
   ]
  },
  {
   "cell_type": "code",
   "execution_count": 22,
   "metadata": {},
   "outputs": [],
   "source": [
    "X_train, X_test, y_train, y_test = train_test_split(X, y, test_size=0.2, random_state=42, stratify = y)"
   ]
  },
  {
   "cell_type": "code",
   "execution_count": 23,
   "metadata": {},
   "outputs": [],
   "source": [
    "_df_train = pd.concat([X_train, y_train], axis = 1).reset_index(drop = True)\n",
    "_df_test = pd.concat([X_test, y_test], axis = 1).reset_index(drop = True)"
   ]
  },
  {
   "cell_type": "code",
   "execution_count": 24,
   "metadata": {},
   "outputs": [
    {
     "data": {
      "text/plain": [
       "((502992, 18), (125748, 18))"
      ]
     },
     "execution_count": 24,
     "metadata": {},
     "output_type": "execute_result"
    }
   ],
   "source": [
    "_df_train.shape, _df_test.shape"
   ]
  },
  {
   "cell_type": "code",
   "execution_count": 25,
   "metadata": {},
   "outputs": [],
   "source": [
    "# save and clear memory\n",
    "#_df_no_lab.to_pickle(os.path.join(storage_path, 'pred_set.pkl'))\n",
    "#_df_train.to_pickle(os.path.join(storage_path, 'train_set.pkl'))\n",
    "#_df_test.to_pickle(os.path.join(storage_path, 'test_set.pkl'))\n",
    "\n",
    "del df\n",
    "del _df_nutriscore_score\n",
    "del _df_nutriscore_score_wo_nutri_facts\n",
    "del _df\n",
    "del _df_no_lab\n",
    "del _serie\n",
    "del X_train\n",
    "del X_test\n",
    "del y_train\n",
    "del y_test"
   ]
  },
  {
   "cell_type": "code",
   "execution_count": 26,
   "metadata": {},
   "outputs": [],
   "source": [
    "_serie = (_df_train.isnull().sum() / len(_df_train)).sort_values(ascending = False)"
   ]
  },
  {
   "cell_type": "code",
   "execution_count": 27,
   "metadata": {},
   "outputs": [
    {
     "data": {
      "text/plain": [
       "0.554422336736966"
      ]
     },
     "execution_count": 27,
     "metadata": {},
     "output_type": "execute_result"
    }
   ],
   "source": [
    "_serie.values[0]"
   ]
  },
  {
   "cell_type": "code",
   "execution_count": 28,
   "metadata": {},
   "outputs": [
    {
     "data": {
      "image/png": "[encoded data removed]",
      "text/plain": [
       "<Figure size 576x360 with 1 Axes>"
      ]
     },
     "metadata": {
      "needs_background": "light"
     },
     "output_type": "display_data"
    }
   ],
   "source": [
    "plt.figure(figsize = (8, 5))\n",
    "plt.title('missing values rates', weight = 'bold')\n",
    "sns.barplot(_serie.index, _serie.values)\n",
    "plt.xticks(rotation = 90)\n",
    "\n",
    "\n",
    "for i in range(len(_serie)):\n",
    "    plt.text(x = i - 0.15,\n",
    "             y = _serie.values[i] + 0.04,\n",
    "             s = f'{_serie.values[i]:.1%}',\n",
    "             fontweight = 'bold',\n",
    "             rotation = 90)\n",
    "\n",
    "plt.gca().set_ylim([0,0.7])\n",
    "plt.show()"
   ]
  },
  {
   "cell_type": "markdown",
   "metadata": {},
   "source": [
    "Pour les variables ayant moins de 1% de valeurs manquantes, les produits ayant des valeurs manquantes dans ces variables seront simplement retirés sur du jeu d'entrainement.\n",
    "\n",
    "Pour les autres variables il faudra opter pour une méthode d'imputation des données manquantes. Pour cela il convient d'explorer chacune de ces variables pour en comprendre sa nature. "
   ]
  },
  {
   "cell_type": "code",
   "execution_count": 29,
   "metadata": {},
   "outputs": [],
   "source": [
    "_features = _serie[_serie > 0.01].index.tolist()"
   ]
  },
  {
   "cell_type": "code",
   "execution_count": 30,
   "metadata": {},
   "outputs": [
    {
     "name": "stdout",
     "output_type": "stream",
     "text": [
      "------------------------------------------------------------------------------------------\n",
      "additives_tags: object (missing values rate: 55.44%) (duplicated values rate: 88.49%)\n",
      "------------------------------------------------------------------------------------------\n"
     ]
    },
    {
     "data": {
      "text/html": [
       "<div>\n",
       "<style scoped>\n",
       "    .dataframe tbody tr th:only-of-type {\n",
       "        vertical-align: middle;\n",
       "    }\n",
       "\n",
       "    .dataframe tbody tr th {\n",
       "        vertical-align: top;\n",
       "    }\n",
       "\n",
       "    .dataframe thead th {\n",
       "        text-align: right;\n",
       "    }\n",
       "</style>\n",
       "<table border=\"1\" class=\"dataframe\">\n",
       "  <thead>\n",
       "    <tr style=\"text-align: right;\">\n",
       "      <th></th>\n",
       "      <th>additives_tags</th>\n",
       "    </tr>\n",
       "  </thead>\n",
       "  <tbody>\n",
       "    <tr>\n",
       "      <th>count</th>\n",
       "      <td>224122</td>\n",
       "    </tr>\n",
       "    <tr>\n",
       "      <th>unique</th>\n",
       "      <td>57908</td>\n",
       "    </tr>\n",
       "    <tr>\n",
       "      <th>top</th>\n",
       "      <td>en:e330</td>\n",
       "    </tr>\n",
       "    <tr>\n",
       "      <th>freq</th>\n",
       "      <td>14169</td>\n",
       "    </tr>\n",
       "  </tbody>\n",
       "</table>\n",
       "</div>"
      ],
      "text/plain": [
       "       additives_tags\n",
       "count          224122\n",
       "unique          57908\n",
       "top           en:e330\n",
       "freq            14169"
      ]
     },
     "metadata": {},
     "output_type": "display_data"
    },
    {
     "data": {
      "text/html": [
       "<div>\n",
       "<style scoped>\n",
       "    .dataframe tbody tr th:only-of-type {\n",
       "        vertical-align: middle;\n",
       "    }\n",
       "\n",
       "    .dataframe tbody tr th {\n",
       "        vertical-align: top;\n",
       "    }\n",
       "\n",
       "    .dataframe thead th {\n",
       "        text-align: right;\n",
       "    }\n",
       "</style>\n",
       "<table border=\"1\" class=\"dataframe\">\n",
       "  <thead>\n",
       "    <tr style=\"text-align: right;\">\n",
       "      <th></th>\n",
       "      <th>additives_tags</th>\n",
       "    </tr>\n",
       "  </thead>\n",
       "  <tbody>\n",
       "    <tr>\n",
       "      <th>182538</th>\n",
       "      <td>en:e160b,en:e304,en:e304i,en:e307,en:e322,en:e...</td>\n",
       "    </tr>\n",
       "    <tr>\n",
       "      <th>89686</th>\n",
       "      <td>en:e102,en:e133,en:e171,en:e322,en:e322i</td>\n",
       "    </tr>\n",
       "    <tr>\n",
       "      <th>195390</th>\n",
       "      <td>en:e110,en:e1103,en:e129,en:e150c,en:e202,en:e...</td>\n",
       "    </tr>\n",
       "    <tr>\n",
       "      <th>337265</th>\n",
       "      <td>en:e120,en:e14xx,en:e202,en:e440</td>\n",
       "    </tr>\n",
       "    <tr>\n",
       "      <th>96602</th>\n",
       "      <td>en:e270,en:e440</td>\n",
       "    </tr>\n",
       "    <tr>\n",
       "      <th>439682</th>\n",
       "      <td>en:e150c,en:e322,en:e322i,en:e450,en:e450i,en:...</td>\n",
       "    </tr>\n",
       "    <tr>\n",
       "      <th>453234</th>\n",
       "      <td>en:e322</td>\n",
       "    </tr>\n",
       "    <tr>\n",
       "      <th>39693</th>\n",
       "      <td>en:e621</td>\n",
       "    </tr>\n",
       "    <tr>\n",
       "      <th>48995</th>\n",
       "      <td>en:e100,en:e221</td>\n",
       "    </tr>\n",
       "    <tr>\n",
       "      <th>478158</th>\n",
       "      <td>en:e1400,en:e202,en:e322,en:e322i,en:e330,en:e...</td>\n",
       "    </tr>\n",
       "  </tbody>\n",
       "</table>\n",
       "</div>"
      ],
      "text/plain": [
       "                                           additives_tags\n",
       "182538  en:e160b,en:e304,en:e304i,en:e307,en:e322,en:e...\n",
       "89686            en:e102,en:e133,en:e171,en:e322,en:e322i\n",
       "195390  en:e110,en:e1103,en:e129,en:e150c,en:e202,en:e...\n",
       "337265                   en:e120,en:e14xx,en:e202,en:e440\n",
       "96602                                     en:e270,en:e440\n",
       "439682  en:e150c,en:e322,en:e322i,en:e450,en:e450i,en:...\n",
       "453234                                            en:e322\n",
       "39693                                             en:e621\n",
       "48995                                     en:e100,en:e221\n",
       "478158  en:e1400,en:e202,en:e322,en:e322i,en:e330,en:e..."
      ]
     },
     "metadata": {},
     "output_type": "display_data"
    },
    {
     "data": {
      "text/html": [
       "<div>\n",
       "<style scoped>\n",
       "    .dataframe tbody tr th:only-of-type {\n",
       "        vertical-align: middle;\n",
       "    }\n",
       "\n",
       "    .dataframe tbody tr th {\n",
       "        vertical-align: top;\n",
       "    }\n",
       "\n",
       "    .dataframe thead th {\n",
       "        text-align: right;\n",
       "    }\n",
       "</style>\n",
       "<table border=\"1\" class=\"dataframe\">\n",
       "  <thead>\n",
       "    <tr style=\"text-align: right;\">\n",
       "      <th></th>\n",
       "      <th>additives_tags</th>\n",
       "    </tr>\n",
       "  </thead>\n",
       "  <tbody>\n",
       "    <tr>\n",
       "      <th>en:e330</th>\n",
       "      <td>0.063220</td>\n",
       "    </tr>\n",
       "    <tr>\n",
       "      <th>en:e322,en:e322i</th>\n",
       "      <td>0.044958</td>\n",
       "    </tr>\n",
       "    <tr>\n",
       "      <th>en:e440</th>\n",
       "      <td>0.016638</td>\n",
       "    </tr>\n",
       "    <tr>\n",
       "      <th>en:e415</th>\n",
       "      <td>0.013461</td>\n",
       "    </tr>\n",
       "    <tr>\n",
       "      <th>en:e300</th>\n",
       "      <td>0.010570</td>\n",
       "    </tr>\n",
       "    <tr>\n",
       "      <th>en:e14xx</th>\n",
       "      <td>0.009678</td>\n",
       "    </tr>\n",
       "    <tr>\n",
       "      <th>en:e160b</th>\n",
       "      <td>0.009361</td>\n",
       "    </tr>\n",
       "    <tr>\n",
       "      <th>en:e500,en:e500ii</th>\n",
       "      <td>0.007701</td>\n",
       "    </tr>\n",
       "    <tr>\n",
       "      <th>en:e407</th>\n",
       "      <td>0.007491</td>\n",
       "    </tr>\n",
       "    <tr>\n",
       "      <th>en:e322,en:e322i,en:e500,en:e500ii</th>\n",
       "      <td>0.007344</td>\n",
       "    </tr>\n",
       "  </tbody>\n",
       "</table>\n",
       "</div>"
      ],
      "text/plain": [
       "                                    additives_tags\n",
       "en:e330                                   0.063220\n",
       "en:e322,en:e322i                          0.044958\n",
       "en:e440                                   0.016638\n",
       "en:e415                                   0.013461\n",
       "en:e300                                   0.010570\n",
       "en:e14xx                                  0.009678\n",
       "en:e160b                                  0.009361\n",
       "en:e500,en:e500ii                         0.007701\n",
       "en:e407                                   0.007491\n",
       "en:e322,en:e322i,en:e500,en:e500ii        0.007344"
      ]
     },
     "metadata": {},
     "output_type": "display_data"
    },
    {
     "name": "stdout",
     "output_type": "stream",
     "text": [
      "------------------------------------------------------------------------------------------\n",
      "serving_size: object (missing values rate: 46.37%) (duplicated values rate: 94.14%)\n",
      "------------------------------------------------------------------------------------------\n"
     ]
    },
    {
     "data": {
      "text/html": [
       "<div>\n",
       "<style scoped>\n",
       "    .dataframe tbody tr th:only-of-type {\n",
       "        vertical-align: middle;\n",
       "    }\n",
       "\n",
       "    .dataframe tbody tr th {\n",
       "        vertical-align: top;\n",
       "    }\n",
       "\n",
       "    .dataframe thead th {\n",
       "        text-align: right;\n",
       "    }\n",
       "</style>\n",
       "<table border=\"1\" class=\"dataframe\">\n",
       "  <thead>\n",
       "    <tr style=\"text-align: right;\">\n",
       "      <th></th>\n",
       "      <th>serving_size</th>\n",
       "    </tr>\n",
       "  </thead>\n",
       "  <tbody>\n",
       "    <tr>\n",
       "      <th>count</th>\n",
       "      <td>269765</td>\n",
       "    </tr>\n",
       "    <tr>\n",
       "      <th>unique</th>\n",
       "      <td>29488</td>\n",
       "    </tr>\n",
       "    <tr>\n",
       "      <th>top</th>\n",
       "      <td>1 ONZ (28 g)</td>\n",
       "    </tr>\n",
       "    <tr>\n",
       "      <th>freq</th>\n",
       "      <td>14426</td>\n",
       "    </tr>\n",
       "  </tbody>\n",
       "</table>\n",
       "</div>"
      ],
      "text/plain": [
       "        serving_size\n",
       "count         269765\n",
       "unique         29488\n",
       "top     1 ONZ (28 g)\n",
       "freq           14426"
      ]
     },
     "metadata": {},
     "output_type": "display_data"
    },
    {
     "data": {
      "text/html": [
       "<div>\n",
       "<style scoped>\n",
       "    .dataframe tbody tr th:only-of-type {\n",
       "        vertical-align: middle;\n",
       "    }\n",
       "\n",
       "    .dataframe tbody tr th {\n",
       "        vertical-align: top;\n",
       "    }\n",
       "\n",
       "    .dataframe thead th {\n",
       "        text-align: right;\n",
       "    }\n",
       "</style>\n",
       "<table border=\"1\" class=\"dataframe\">\n",
       "  <thead>\n",
       "    <tr style=\"text-align: right;\">\n",
       "      <th></th>\n",
       "      <th>serving_size</th>\n",
       "    </tr>\n",
       "  </thead>\n",
       "  <tbody>\n",
       "    <tr>\n",
       "      <th>361070</th>\n",
       "      <td>1 ENVELOPE (MAKES 6 fl oz PREPARED) (17 g)</td>\n",
       "    </tr>\n",
       "    <tr>\n",
       "      <th>331583</th>\n",
       "      <td>0.5 cup (115 g)</td>\n",
       "    </tr>\n",
       "    <tr>\n",
       "      <th>451002</th>\n",
       "      <td>90 g</td>\n",
       "    </tr>\n",
       "    <tr>\n",
       "      <th>264789</th>\n",
       "      <td>20.625g</td>\n",
       "    </tr>\n",
       "    <tr>\n",
       "      <th>422436</th>\n",
       "      <td>2 Tbsp (32 g)</td>\n",
       "    </tr>\n",
       "    <tr>\n",
       "      <th>229326</th>\n",
       "      <td>1/2 cup (84 g)</td>\n",
       "    </tr>\n",
       "    <tr>\n",
       "      <th>2406</th>\n",
       "      <td>5 COOKIES (35 g)</td>\n",
       "    </tr>\n",
       "    <tr>\n",
       "      <th>490242</th>\n",
       "      <td>0.25 cup (10 g)</td>\n",
       "    </tr>\n",
       "    <tr>\n",
       "      <th>265244</th>\n",
       "      <td>4.5 ONZ (128 g)</td>\n",
       "    </tr>\n",
       "    <tr>\n",
       "      <th>32810</th>\n",
       "      <td>1 BAR (69 g)</td>\n",
       "    </tr>\n",
       "  </tbody>\n",
       "</table>\n",
       "</div>"
      ],
      "text/plain": [
       "                                      serving_size\n",
       "361070  1 ENVELOPE (MAKES 6 fl oz PREPARED) (17 g)\n",
       "331583                             0.5 cup (115 g)\n",
       "451002                                        90 g\n",
       "264789                                     20.625g\n",
       "422436                               2 Tbsp (32 g)\n",
       "229326                              1/2 cup (84 g)\n",
       "2406                              5 COOKIES (35 g)\n",
       "490242                             0.25 cup (10 g)\n",
       "265244                             4.5 ONZ (128 g)\n",
       "32810                                 1 BAR (69 g)"
      ]
     },
     "metadata": {},
     "output_type": "display_data"
    },
    {
     "data": {
      "text/html": [
       "<div>\n",
       "<style scoped>\n",
       "    .dataframe tbody tr th:only-of-type {\n",
       "        vertical-align: middle;\n",
       "    }\n",
       "\n",
       "    .dataframe tbody tr th {\n",
       "        vertical-align: top;\n",
       "    }\n",
       "\n",
       "    .dataframe thead th {\n",
       "        text-align: right;\n",
       "    }\n",
       "</style>\n",
       "<table border=\"1\" class=\"dataframe\">\n",
       "  <thead>\n",
       "    <tr style=\"text-align: right;\">\n",
       "      <th></th>\n",
       "      <th>serving_size</th>\n",
       "    </tr>\n",
       "  </thead>\n",
       "  <tbody>\n",
       "    <tr>\n",
       "      <th>1 ONZ (28 g)</th>\n",
       "      <td>0.053476</td>\n",
       "    </tr>\n",
       "    <tr>\n",
       "      <th>100g</th>\n",
       "      <td>0.033596</td>\n",
       "    </tr>\n",
       "    <tr>\n",
       "      <th>2 ONZ (56 g)</th>\n",
       "      <td>0.015458</td>\n",
       "    </tr>\n",
       "    <tr>\n",
       "      <th>30 g</th>\n",
       "      <td>0.013530</td>\n",
       "    </tr>\n",
       "    <tr>\n",
       "      <th>2 Tbsp (30 g)</th>\n",
       "      <td>0.011981</td>\n",
       "    </tr>\n",
       "    <tr>\n",
       "      <th>8 OZA (240 ml)</th>\n",
       "      <td>0.010264</td>\n",
       "    </tr>\n",
       "    <tr>\n",
       "      <th>1 cup (240 ml)</th>\n",
       "      <td>0.009623</td>\n",
       "    </tr>\n",
       "    <tr>\n",
       "      <th>30g</th>\n",
       "      <td>0.008389</td>\n",
       "    </tr>\n",
       "    <tr>\n",
       "      <th>2 Tbsp (30 ml)</th>\n",
       "      <td>0.008029</td>\n",
       "    </tr>\n",
       "    <tr>\n",
       "      <th>100 g</th>\n",
       "      <td>0.007710</td>\n",
       "    </tr>\n",
       "  </tbody>\n",
       "</table>\n",
       "</div>"
      ],
      "text/plain": [
       "                serving_size\n",
       "1 ONZ (28 g)        0.053476\n",
       "100g                0.033596\n",
       "2 ONZ (56 g)        0.015458\n",
       "30 g                0.013530\n",
       "2 Tbsp (30 g)       0.011981\n",
       "8 OZA (240 ml)      0.010264\n",
       "1 cup (240 ml)      0.009623\n",
       "30g                 0.008389\n",
       "2 Tbsp (30 ml)      0.008029\n",
       "100 g               0.007710"
      ]
     },
     "metadata": {},
     "output_type": "display_data"
    },
    {
     "name": "stdout",
     "output_type": "stream",
     "text": [
      "------------------------------------------------------------------------------------------\n",
      "image_url: object (missing values rate: 38.57%) (duplicated values rate: 38.57%)\n",
      "------------------------------------------------------------------------------------------\n"
     ]
    },
    {
     "data": {
      "text/html": [
       "<div>\n",
       "<style scoped>\n",
       "    .dataframe tbody tr th:only-of-type {\n",
       "        vertical-align: middle;\n",
       "    }\n",
       "\n",
       "    .dataframe tbody tr th {\n",
       "        vertical-align: top;\n",
       "    }\n",
       "\n",
       "    .dataframe thead th {\n",
       "        text-align: right;\n",
       "    }\n",
       "</style>\n",
       "<table border=\"1\" class=\"dataframe\">\n",
       "  <thead>\n",
       "    <tr style=\"text-align: right;\">\n",
       "      <th></th>\n",
       "      <th>image_url</th>\n",
       "    </tr>\n",
       "  </thead>\n",
       "  <tbody>\n",
       "    <tr>\n",
       "      <th>count</th>\n",
       "      <td>308998</td>\n",
       "    </tr>\n",
       "    <tr>\n",
       "      <th>unique</th>\n",
       "      <td>308990</td>\n",
       "    </tr>\n",
       "    <tr>\n",
       "      <th>top</th>\n",
       "      <td>https://static.openfoodfacts.org/images/produc...</td>\n",
       "    </tr>\n",
       "    <tr>\n",
       "      <th>freq</th>\n",
       "      <td>5</td>\n",
       "    </tr>\n",
       "  </tbody>\n",
       "</table>\n",
       "</div>"
      ],
      "text/plain": [
       "                                                image_url\n",
       "count                                              308998\n",
       "unique                                             308990\n",
       "top     https://static.openfoodfacts.org/images/produc...\n",
       "freq                                                    5"
      ]
     },
     "metadata": {},
     "output_type": "display_data"
    },
    {
     "data": {
      "text/html": [
       "<div>\n",
       "<style scoped>\n",
       "    .dataframe tbody tr th:only-of-type {\n",
       "        vertical-align: middle;\n",
       "    }\n",
       "\n",
       "    .dataframe tbody tr th {\n",
       "        vertical-align: top;\n",
       "    }\n",
       "\n",
       "    .dataframe thead th {\n",
       "        text-align: right;\n",
       "    }\n",
       "</style>\n",
       "<table border=\"1\" class=\"dataframe\">\n",
       "  <thead>\n",
       "    <tr style=\"text-align: right;\">\n",
       "      <th></th>\n",
       "      <th>image_url</th>\n",
       "    </tr>\n",
       "  </thead>\n",
       "  <tbody>\n",
       "    <tr>\n",
       "      <th>497228</th>\n",
       "      <td>https://static.openfoodfacts.org/images/produc...</td>\n",
       "    </tr>\n",
       "    <tr>\n",
       "      <th>399115</th>\n",
       "      <td>https://static.openfoodfacts.org/images/produc...</td>\n",
       "    </tr>\n",
       "    <tr>\n",
       "      <th>43753</th>\n",
       "      <td>https://static.openfoodfacts.org/images/produc...</td>\n",
       "    </tr>\n",
       "    <tr>\n",
       "      <th>275997</th>\n",
       "      <td>https://static.openfoodfacts.org/images/produc...</td>\n",
       "    </tr>\n",
       "    <tr>\n",
       "      <th>181336</th>\n",
       "      <td>https://static.openfoodfacts.org/images/produc...</td>\n",
       "    </tr>\n",
       "    <tr>\n",
       "      <th>425577</th>\n",
       "      <td>https://static.openfoodfacts.org/images/produc...</td>\n",
       "    </tr>\n",
       "    <tr>\n",
       "      <th>141667</th>\n",
       "      <td>https://static.openfoodfacts.org/images/produc...</td>\n",
       "    </tr>\n",
       "    <tr>\n",
       "      <th>44201</th>\n",
       "      <td>https://static.openfoodfacts.org/images/produc...</td>\n",
       "    </tr>\n",
       "    <tr>\n",
       "      <th>6005</th>\n",
       "      <td>https://static.openfoodfacts.org/images/produc...</td>\n",
       "    </tr>\n",
       "    <tr>\n",
       "      <th>399197</th>\n",
       "      <td>https://static.openfoodfacts.org/images/produc...</td>\n",
       "    </tr>\n",
       "  </tbody>\n",
       "</table>\n",
       "</div>"
      ],
      "text/plain": [
       "                                                image_url\n",
       "497228  https://static.openfoodfacts.org/images/produc...\n",
       "399115  https://static.openfoodfacts.org/images/produc...\n",
       "43753   https://static.openfoodfacts.org/images/produc...\n",
       "275997  https://static.openfoodfacts.org/images/produc...\n",
       "181336  https://static.openfoodfacts.org/images/produc...\n",
       "425577  https://static.openfoodfacts.org/images/produc...\n",
       "141667  https://static.openfoodfacts.org/images/produc...\n",
       "44201   https://static.openfoodfacts.org/images/produc...\n",
       "6005    https://static.openfoodfacts.org/images/produc...\n",
       "399197  https://static.openfoodfacts.org/images/produc..."
      ]
     },
     "metadata": {},
     "output_type": "display_data"
    },
    {
     "data": {
      "text/html": [
       "<div>\n",
       "<style scoped>\n",
       "    .dataframe tbody tr th:only-of-type {\n",
       "        vertical-align: middle;\n",
       "    }\n",
       "\n",
       "    .dataframe tbody tr th {\n",
       "        vertical-align: top;\n",
       "    }\n",
       "\n",
       "    .dataframe thead th {\n",
       "        text-align: right;\n",
       "    }\n",
       "</style>\n",
       "<table border=\"1\" class=\"dataframe\">\n",
       "  <thead>\n",
       "    <tr style=\"text-align: right;\">\n",
       "      <th></th>\n",
       "      <th>image_url</th>\n",
       "    </tr>\n",
       "  </thead>\n",
       "  <tbody>\n",
       "    <tr>\n",
       "      <th>https://static.openfoodfacts.org/images/products/invalid/front_fr.4.400.jpg</th>\n",
       "      <td>0.000016</td>\n",
       "    </tr>\n",
       "    <tr>\n",
       "      <th>https://static.openfoodfacts.org/images/products/invalid/front_fr.3.400.jpg</th>\n",
       "      <td>0.000010</td>\n",
       "    </tr>\n",
       "    <tr>\n",
       "      <th>https://static.openfoodfacts.org/images/products/invalid/front_de.4.400.jpg</th>\n",
       "      <td>0.000006</td>\n",
       "    </tr>\n",
       "    <tr>\n",
       "      <th>https://static.openfoodfacts.org/images/products/invalid/front_fr.5.400.jpg</th>\n",
       "      <td>0.000006</td>\n",
       "    </tr>\n",
       "    <tr>\n",
       "      <th>https://static.openfoodfacts.org/images/products/319/924/101/1870/front_fr.9.400.jpg</th>\n",
       "      <td>0.000003</td>\n",
       "    </tr>\n",
       "    <tr>\n",
       "      <th>https://static.openfoodfacts.org/images/products/590/326/831/8403/front_fr.11.400.jpg</th>\n",
       "      <td>0.000003</td>\n",
       "    </tr>\n",
       "    <tr>\n",
       "      <th>https://static.openfoodfacts.org/images/products/731/010/060/4262/front_sv.13.400.jpg</th>\n",
       "      <td>0.000003</td>\n",
       "    </tr>\n",
       "    <tr>\n",
       "      <th>https://static.openfoodfacts.org/images/products/352/323/004/6688/front_fr.4.400.jpg</th>\n",
       "      <td>0.000003</td>\n",
       "    </tr>\n",
       "    <tr>\n",
       "      <th>https://static.openfoodfacts.org/images/products/750/179/162/4435/front_es.8.400.jpg</th>\n",
       "      <td>0.000003</td>\n",
       "    </tr>\n",
       "    <tr>\n",
       "      <th>https://static.openfoodfacts.org/images/products/347/460/873/1104/front_fr.3.400.jpg</th>\n",
       "      <td>0.000003</td>\n",
       "    </tr>\n",
       "  </tbody>\n",
       "</table>\n",
       "</div>"
      ],
      "text/plain": [
       "                                                    image_url\n",
       "https://static.openfoodfacts.org/images/product...   0.000016\n",
       "https://static.openfoodfacts.org/images/product...   0.000010\n",
       "https://static.openfoodfacts.org/images/product...   0.000006\n",
       "https://static.openfoodfacts.org/images/product...   0.000006\n",
       "https://static.openfoodfacts.org/images/product...   0.000003\n",
       "https://static.openfoodfacts.org/images/product...   0.000003\n",
       "https://static.openfoodfacts.org/images/product...   0.000003\n",
       "https://static.openfoodfacts.org/images/product...   0.000003\n",
       "https://static.openfoodfacts.org/images/product...   0.000003\n",
       "https://static.openfoodfacts.org/images/product...   0.000003"
      ]
     },
     "metadata": {},
     "output_type": "display_data"
    },
    {
     "name": "stdout",
     "output_type": "stream",
     "text": [
      "------------------------------------------------------------------------------------------\n",
      "image_small_url: object (missing values rate: 38.57%) (duplicated values rate: 38.57%)\n",
      "------------------------------------------------------------------------------------------\n"
     ]
    },
    {
     "data": {
      "text/html": [
       "<div>\n",
       "<style scoped>\n",
       "    .dataframe tbody tr th:only-of-type {\n",
       "        vertical-align: middle;\n",
       "    }\n",
       "\n",
       "    .dataframe tbody tr th {\n",
       "        vertical-align: top;\n",
       "    }\n",
       "\n",
       "    .dataframe thead th {\n",
       "        text-align: right;\n",
       "    }\n",
       "</style>\n",
       "<table border=\"1\" class=\"dataframe\">\n",
       "  <thead>\n",
       "    <tr style=\"text-align: right;\">\n",
       "      <th></th>\n",
       "      <th>image_small_url</th>\n",
       "    </tr>\n",
       "  </thead>\n",
       "  <tbody>\n",
       "    <tr>\n",
       "      <th>count</th>\n",
       "      <td>308998</td>\n",
       "    </tr>\n",
       "    <tr>\n",
       "      <th>unique</th>\n",
       "      <td>308990</td>\n",
       "    </tr>\n",
       "    <tr>\n",
       "      <th>top</th>\n",
       "      <td>https://static.openfoodfacts.org/images/produc...</td>\n",
       "    </tr>\n",
       "    <tr>\n",
       "      <th>freq</th>\n",
       "      <td>5</td>\n",
       "    </tr>\n",
       "  </tbody>\n",
       "</table>\n",
       "</div>"
      ],
      "text/plain": [
       "                                          image_small_url\n",
       "count                                              308998\n",
       "unique                                             308990\n",
       "top     https://static.openfoodfacts.org/images/produc...\n",
       "freq                                                    5"
      ]
     },
     "metadata": {},
     "output_type": "display_data"
    },
    {
     "data": {
      "text/html": [
       "<div>\n",
       "<style scoped>\n",
       "    .dataframe tbody tr th:only-of-type {\n",
       "        vertical-align: middle;\n",
       "    }\n",
       "\n",
       "    .dataframe tbody tr th {\n",
       "        vertical-align: top;\n",
       "    }\n",
       "\n",
       "    .dataframe thead th {\n",
       "        text-align: right;\n",
       "    }\n",
       "</style>\n",
       "<table border=\"1\" class=\"dataframe\">\n",
       "  <thead>\n",
       "    <tr style=\"text-align: right;\">\n",
       "      <th></th>\n",
       "      <th>image_small_url</th>\n",
       "    </tr>\n",
       "  </thead>\n",
       "  <tbody>\n",
       "    <tr>\n",
       "      <th>455931</th>\n",
       "      <td>https://static.openfoodfacts.org/images/produc...</td>\n",
       "    </tr>\n",
       "    <tr>\n",
       "      <th>66166</th>\n",
       "      <td>https://static.openfoodfacts.org/images/produc...</td>\n",
       "    </tr>\n",
       "    <tr>\n",
       "      <th>427224</th>\n",
       "      <td>https://static.openfoodfacts.org/images/produc...</td>\n",
       "    </tr>\n",
       "    <tr>\n",
       "      <th>420555</th>\n",
       "      <td>https://static.openfoodfacts.org/images/produc...</td>\n",
       "    </tr>\n",
       "    <tr>\n",
       "      <th>480866</th>\n",
       "      <td>https://static.openfoodfacts.org/images/produc...</td>\n",
       "    </tr>\n",
       "    <tr>\n",
       "      <th>74745</th>\n",
       "      <td>https://static.openfoodfacts.org/images/produc...</td>\n",
       "    </tr>\n",
       "    <tr>\n",
       "      <th>96969</th>\n",
       "      <td>https://static.openfoodfacts.org/images/produc...</td>\n",
       "    </tr>\n",
       "    <tr>\n",
       "      <th>16119</th>\n",
       "      <td>https://static.openfoodfacts.org/images/produc...</td>\n",
       "    </tr>\n",
       "    <tr>\n",
       "      <th>427721</th>\n",
       "      <td>https://static.openfoodfacts.org/images/produc...</td>\n",
       "    </tr>\n",
       "    <tr>\n",
       "      <th>327953</th>\n",
       "      <td>https://static.openfoodfacts.org/images/produc...</td>\n",
       "    </tr>\n",
       "  </tbody>\n",
       "</table>\n",
       "</div>"
      ],
      "text/plain": [
       "                                          image_small_url\n",
       "455931  https://static.openfoodfacts.org/images/produc...\n",
       "66166   https://static.openfoodfacts.org/images/produc...\n",
       "427224  https://static.openfoodfacts.org/images/produc...\n",
       "420555  https://static.openfoodfacts.org/images/produc...\n",
       "480866  https://static.openfoodfacts.org/images/produc...\n",
       "74745   https://static.openfoodfacts.org/images/produc...\n",
       "96969   https://static.openfoodfacts.org/images/produc...\n",
       "16119   https://static.openfoodfacts.org/images/produc...\n",
       "427721  https://static.openfoodfacts.org/images/produc...\n",
       "327953  https://static.openfoodfacts.org/images/produc..."
      ]
     },
     "metadata": {},
     "output_type": "display_data"
    },
    {
     "data": {
      "text/html": [
       "<div>\n",
       "<style scoped>\n",
       "    .dataframe tbody tr th:only-of-type {\n",
       "        vertical-align: middle;\n",
       "    }\n",
       "\n",
       "    .dataframe tbody tr th {\n",
       "        vertical-align: top;\n",
       "    }\n",
       "\n",
       "    .dataframe thead th {\n",
       "        text-align: right;\n",
       "    }\n",
       "</style>\n",
       "<table border=\"1\" class=\"dataframe\">\n",
       "  <thead>\n",
       "    <tr style=\"text-align: right;\">\n",
       "      <th></th>\n",
       "      <th>image_small_url</th>\n",
       "    </tr>\n",
       "  </thead>\n",
       "  <tbody>\n",
       "    <tr>\n",
       "      <th>https://static.openfoodfacts.org/images/products/invalid/front_fr.4.200.jpg</th>\n",
       "      <td>0.000016</td>\n",
       "    </tr>\n",
       "    <tr>\n",
       "      <th>https://static.openfoodfacts.org/images/products/invalid/front_fr.3.200.jpg</th>\n",
       "      <td>0.000010</td>\n",
       "    </tr>\n",
       "    <tr>\n",
       "      <th>https://static.openfoodfacts.org/images/products/invalid/front_fr.5.200.jpg</th>\n",
       "      <td>0.000006</td>\n",
       "    </tr>\n",
       "    <tr>\n",
       "      <th>https://static.openfoodfacts.org/images/products/invalid/front_de.4.200.jpg</th>\n",
       "      <td>0.000006</td>\n",
       "    </tr>\n",
       "    <tr>\n",
       "      <th>https://static.openfoodfacts.org/images/products/325/622/017/2462/front_fr.10.200.jpg</th>\n",
       "      <td>0.000003</td>\n",
       "    </tr>\n",
       "    <tr>\n",
       "      <th>https://static.openfoodfacts.org/images/products/20623272/front_en.14.200.jpg</th>\n",
       "      <td>0.000003</td>\n",
       "    </tr>\n",
       "    <tr>\n",
       "      <th>https://static.openfoodfacts.org/images/products/366/390/100/5740/front_fr.3.200.jpg</th>\n",
       "      <td>0.000003</td>\n",
       "    </tr>\n",
       "    <tr>\n",
       "      <th>https://static.openfoodfacts.org/images/products/360/976/120/0239/front_fr.17.200.jpg</th>\n",
       "      <td>0.000003</td>\n",
       "    </tr>\n",
       "    <tr>\n",
       "      <th>https://static.openfoodfacts.org/images/products/842/696/393/7085/front_es.3.200.jpg</th>\n",
       "      <td>0.000003</td>\n",
       "    </tr>\n",
       "    <tr>\n",
       "      <th>https://static.openfoodfacts.org/images/products/332/922/999/0006/front_fr.4.200.jpg</th>\n",
       "      <td>0.000003</td>\n",
       "    </tr>\n",
       "  </tbody>\n",
       "</table>\n",
       "</div>"
      ],
      "text/plain": [
       "                                                    image_small_url\n",
       "https://static.openfoodfacts.org/images/product...         0.000016\n",
       "https://static.openfoodfacts.org/images/product...         0.000010\n",
       "https://static.openfoodfacts.org/images/product...         0.000006\n",
       "https://static.openfoodfacts.org/images/product...         0.000006\n",
       "https://static.openfoodfacts.org/images/product...         0.000003\n",
       "https://static.openfoodfacts.org/images/product...         0.000003\n",
       "https://static.openfoodfacts.org/images/product...         0.000003\n",
       "https://static.openfoodfacts.org/images/product...         0.000003\n",
       "https://static.openfoodfacts.org/images/product...         0.000003\n",
       "https://static.openfoodfacts.org/images/product...         0.000003"
      ]
     },
     "metadata": {},
     "output_type": "display_data"
    },
    {
     "name": "stdout",
     "output_type": "stream",
     "text": [
      "------------------------------------------------------------------------------------------\n",
      "brands_tags: object (missing values rate: 27.73%) (duplicated values rate: 88.02%)\n",
      "------------------------------------------------------------------------------------------\n"
     ]
    },
    {
     "data": {
      "text/html": [
       "<div>\n",
       "<style scoped>\n",
       "    .dataframe tbody tr th:only-of-type {\n",
       "        vertical-align: middle;\n",
       "    }\n",
       "\n",
       "    .dataframe tbody tr th {\n",
       "        vertical-align: top;\n",
       "    }\n",
       "\n",
       "    .dataframe thead th {\n",
       "        text-align: right;\n",
       "    }\n",
       "</style>\n",
       "<table border=\"1\" class=\"dataframe\">\n",
       "  <thead>\n",
       "    <tr style=\"text-align: right;\">\n",
       "      <th></th>\n",
       "      <th>brands_tags</th>\n",
       "    </tr>\n",
       "  </thead>\n",
       "  <tbody>\n",
       "    <tr>\n",
       "      <th>count</th>\n",
       "      <td>363499</td>\n",
       "    </tr>\n",
       "    <tr>\n",
       "      <th>unique</th>\n",
       "      <td>60260</td>\n",
       "    </tr>\n",
       "    <tr>\n",
       "      <th>top</th>\n",
       "      <td>carrefour</td>\n",
       "    </tr>\n",
       "    <tr>\n",
       "      <th>freq</th>\n",
       "      <td>6229</td>\n",
       "    </tr>\n",
       "  </tbody>\n",
       "</table>\n",
       "</div>"
      ],
      "text/plain": [
       "       brands_tags\n",
       "count       363499\n",
       "unique       60260\n",
       "top      carrefour\n",
       "freq          6229"
      ]
     },
     "metadata": {},
     "output_type": "display_data"
    },
    {
     "data": {
      "text/html": [
       "<div>\n",
       "<style scoped>\n",
       "    .dataframe tbody tr th:only-of-type {\n",
       "        vertical-align: middle;\n",
       "    }\n",
       "\n",
       "    .dataframe tbody tr th {\n",
       "        vertical-align: top;\n",
       "    }\n",
       "\n",
       "    .dataframe thead th {\n",
       "        text-align: right;\n",
       "    }\n",
       "</style>\n",
       "<table border=\"1\" class=\"dataframe\">\n",
       "  <thead>\n",
       "    <tr style=\"text-align: right;\">\n",
       "      <th></th>\n",
       "      <th>brands_tags</th>\n",
       "    </tr>\n",
       "  </thead>\n",
       "  <tbody>\n",
       "    <tr>\n",
       "      <th>304638</th>\n",
       "      <td>relais-gourmand</td>\n",
       "    </tr>\n",
       "    <tr>\n",
       "      <th>225897</th>\n",
       "      <td>herta</td>\n",
       "    </tr>\n",
       "    <tr>\n",
       "      <th>243931</th>\n",
       "      <td>picard</td>\n",
       "    </tr>\n",
       "    <tr>\n",
       "      <th>359410</th>\n",
       "      <td>reblochon-de-savoie</td>\n",
       "    </tr>\n",
       "    <tr>\n",
       "      <th>114794</th>\n",
       "      <td>natsu</td>\n",
       "    </tr>\n",
       "    <tr>\n",
       "      <th>499334</th>\n",
       "      <td>pittsburch-dad-s</td>\n",
       "    </tr>\n",
       "    <tr>\n",
       "      <th>436118</th>\n",
       "      <td>sierra-nevada-cheese-company</td>\n",
       "    </tr>\n",
       "    <tr>\n",
       "      <th>26185</th>\n",
       "      <td>giant</td>\n",
       "    </tr>\n",
       "    <tr>\n",
       "      <th>14395</th>\n",
       "      <td>suja,suja-life-llc</td>\n",
       "    </tr>\n",
       "    <tr>\n",
       "      <th>248287</th>\n",
       "      <td>migros</td>\n",
       "    </tr>\n",
       "  </tbody>\n",
       "</table>\n",
       "</div>"
      ],
      "text/plain": [
       "                         brands_tags\n",
       "304638               relais-gourmand\n",
       "225897                         herta\n",
       "243931                        picard\n",
       "359410           reblochon-de-savoie\n",
       "114794                         natsu\n",
       "499334              pittsburch-dad-s\n",
       "436118  sierra-nevada-cheese-company\n",
       "26185                          giant\n",
       "14395             suja,suja-life-llc\n",
       "248287                        migros"
      ]
     },
     "metadata": {},
     "output_type": "display_data"
    },
    {
     "data": {
      "text/html": [
       "<div>\n",
       "<style scoped>\n",
       "    .dataframe tbody tr th:only-of-type {\n",
       "        vertical-align: middle;\n",
       "    }\n",
       "\n",
       "    .dataframe tbody tr th {\n",
       "        vertical-align: top;\n",
       "    }\n",
       "\n",
       "    .dataframe thead th {\n",
       "        text-align: right;\n",
       "    }\n",
       "</style>\n",
       "<table border=\"1\" class=\"dataframe\">\n",
       "  <thead>\n",
       "    <tr style=\"text-align: right;\">\n",
       "      <th></th>\n",
       "      <th>brands_tags</th>\n",
       "    </tr>\n",
       "  </thead>\n",
       "  <tbody>\n",
       "    <tr>\n",
       "      <th>carrefour</th>\n",
       "      <td>0.017136</td>\n",
       "    </tr>\n",
       "    <tr>\n",
       "      <th>auchan</th>\n",
       "      <td>0.015631</td>\n",
       "    </tr>\n",
       "    <tr>\n",
       "      <th>u</th>\n",
       "      <td>0.009343</td>\n",
       "    </tr>\n",
       "    <tr>\n",
       "      <th>casino</th>\n",
       "      <td>0.006578</td>\n",
       "    </tr>\n",
       "    <tr>\n",
       "      <th>leader-price</th>\n",
       "      <td>0.006567</td>\n",
       "    </tr>\n",
       "    <tr>\n",
       "      <th>hacendado</th>\n",
       "      <td>0.006242</td>\n",
       "    </tr>\n",
       "    <tr>\n",
       "      <th>cora</th>\n",
       "      <td>0.004886</td>\n",
       "    </tr>\n",
       "    <tr>\n",
       "      <th>picard</th>\n",
       "      <td>0.004231</td>\n",
       "    </tr>\n",
       "    <tr>\n",
       "      <th>delhaize</th>\n",
       "      <td>0.004184</td>\n",
       "    </tr>\n",
       "    <tr>\n",
       "      <th>bonarea</th>\n",
       "      <td>0.004135</td>\n",
       "    </tr>\n",
       "  </tbody>\n",
       "</table>\n",
       "</div>"
      ],
      "text/plain": [
       "              brands_tags\n",
       "carrefour        0.017136\n",
       "auchan           0.015631\n",
       "u                0.009343\n",
       "casino           0.006578\n",
       "leader-price     0.006567\n",
       "hacendado        0.006242\n",
       "cora             0.004886\n",
       "picard           0.004231\n",
       "delhaize         0.004184\n",
       "bonarea          0.004135"
      ]
     },
     "metadata": {},
     "output_type": "display_data"
    },
    {
     "name": "stdout",
     "output_type": "stream",
     "text": [
      "------------------------------------------------------------------------------------------\n",
      "brands: object (missing values rate: 27.73%) (duplicated values rate: 85.09%)\n",
      "------------------------------------------------------------------------------------------\n"
     ]
    },
    {
     "data": {
      "text/html": [
       "<div>\n",
       "<style scoped>\n",
       "    .dataframe tbody tr th:only-of-type {\n",
       "        vertical-align: middle;\n",
       "    }\n",
       "\n",
       "    .dataframe tbody tr th {\n",
       "        vertical-align: top;\n",
       "    }\n",
       "\n",
       "    .dataframe thead th {\n",
       "        text-align: right;\n",
       "    }\n",
       "</style>\n",
       "<table border=\"1\" class=\"dataframe\">\n",
       "  <thead>\n",
       "    <tr style=\"text-align: right;\">\n",
       "      <th></th>\n",
       "      <th>brands</th>\n",
       "    </tr>\n",
       "  </thead>\n",
       "  <tbody>\n",
       "    <tr>\n",
       "      <th>count</th>\n",
       "      <td>363514</td>\n",
       "    </tr>\n",
       "    <tr>\n",
       "      <th>unique</th>\n",
       "      <td>74992</td>\n",
       "    </tr>\n",
       "    <tr>\n",
       "      <th>top</th>\n",
       "      <td>Carrefour</td>\n",
       "    </tr>\n",
       "    <tr>\n",
       "      <th>freq</th>\n",
       "      <td>6044</td>\n",
       "    </tr>\n",
       "  </tbody>\n",
       "</table>\n",
       "</div>"
      ],
      "text/plain": [
       "           brands\n",
       "count      363514\n",
       "unique      74992\n",
       "top     Carrefour\n",
       "freq         6044"
      ]
     },
     "metadata": {},
     "output_type": "display_data"
    },
    {
     "data": {
      "text/html": [
       "<div>\n",
       "<style scoped>\n",
       "    .dataframe tbody tr th:only-of-type {\n",
       "        vertical-align: middle;\n",
       "    }\n",
       "\n",
       "    .dataframe tbody tr th {\n",
       "        vertical-align: top;\n",
       "    }\n",
       "\n",
       "    .dataframe thead th {\n",
       "        text-align: right;\n",
       "    }\n",
       "</style>\n",
       "<table border=\"1\" class=\"dataframe\">\n",
       "  <thead>\n",
       "    <tr style=\"text-align: right;\">\n",
       "      <th></th>\n",
       "      <th>brands</th>\n",
       "    </tr>\n",
       "  </thead>\n",
       "  <tbody>\n",
       "    <tr>\n",
       "      <th>140495</th>\n",
       "      <td>Acoal</td>\n",
       "    </tr>\n",
       "    <tr>\n",
       "      <th>456031</th>\n",
       "      <td>Lusitana</td>\n",
       "    </tr>\n",
       "    <tr>\n",
       "      <th>404401</th>\n",
       "      <td>Marketside</td>\n",
       "    </tr>\n",
       "    <tr>\n",
       "      <th>256743</th>\n",
       "      <td>Eliges</td>\n",
       "    </tr>\n",
       "    <tr>\n",
       "      <th>365684</th>\n",
       "      <td>activlab</td>\n",
       "    </tr>\n",
       "    <tr>\n",
       "      <th>88593</th>\n",
       "      <td>la fermière</td>\n",
       "    </tr>\n",
       "    <tr>\n",
       "      <th>442771</th>\n",
       "      <td>Busy Baker</td>\n",
       "    </tr>\n",
       "    <tr>\n",
       "      <th>67</th>\n",
       "      <td>K-Bio</td>\n",
       "    </tr>\n",
       "    <tr>\n",
       "      <th>42161</th>\n",
       "      <td>Eroski</td>\n",
       "    </tr>\n",
       "    <tr>\n",
       "      <th>412529</th>\n",
       "      <td>Central Lechera Asturiana</td>\n",
       "    </tr>\n",
       "  </tbody>\n",
       "</table>\n",
       "</div>"
      ],
      "text/plain": [
       "                           brands\n",
       "140495                      Acoal\n",
       "456031                   Lusitana\n",
       "404401                 Marketside\n",
       "256743                     Eliges\n",
       "365684                   activlab\n",
       "88593                 la fermière\n",
       "442771                 Busy Baker\n",
       "67                          K-Bio\n",
       "42161                      Eroski\n",
       "412529  Central Lechera Asturiana"
      ]
     },
     "metadata": {},
     "output_type": "display_data"
    },
    {
     "data": {
      "text/html": [
       "<div>\n",
       "<style scoped>\n",
       "    .dataframe tbody tr th:only-of-type {\n",
       "        vertical-align: middle;\n",
       "    }\n",
       "\n",
       "    .dataframe tbody tr th {\n",
       "        vertical-align: top;\n",
       "    }\n",
       "\n",
       "    .dataframe thead th {\n",
       "        text-align: right;\n",
       "    }\n",
       "</style>\n",
       "<table border=\"1\" class=\"dataframe\">\n",
       "  <thead>\n",
       "    <tr style=\"text-align: right;\">\n",
       "      <th></th>\n",
       "      <th>brands</th>\n",
       "    </tr>\n",
       "  </thead>\n",
       "  <tbody>\n",
       "    <tr>\n",
       "      <th>Carrefour</th>\n",
       "      <td>0.016627</td>\n",
       "    </tr>\n",
       "    <tr>\n",
       "      <th>Auchan</th>\n",
       "      <td>0.015141</td>\n",
       "    </tr>\n",
       "    <tr>\n",
       "      <th>U</th>\n",
       "      <td>0.009304</td>\n",
       "    </tr>\n",
       "    <tr>\n",
       "      <th>Casino</th>\n",
       "      <td>0.006476</td>\n",
       "    </tr>\n",
       "    <tr>\n",
       "      <th>Leader Price</th>\n",
       "      <td>0.006080</td>\n",
       "    </tr>\n",
       "    <tr>\n",
       "      <th>Hacendado</th>\n",
       "      <td>0.006055</td>\n",
       "    </tr>\n",
       "    <tr>\n",
       "      <th>Cora</th>\n",
       "      <td>0.004817</td>\n",
       "    </tr>\n",
       "    <tr>\n",
       "      <th>Picard</th>\n",
       "      <td>0.004143</td>\n",
       "    </tr>\n",
       "    <tr>\n",
       "      <th>Delhaize</th>\n",
       "      <td>0.004093</td>\n",
       "    </tr>\n",
       "    <tr>\n",
       "      <th>Eroski</th>\n",
       "      <td>0.003774</td>\n",
       "    </tr>\n",
       "  </tbody>\n",
       "</table>\n",
       "</div>"
      ],
      "text/plain": [
       "                brands\n",
       "Carrefour     0.016627\n",
       "Auchan        0.015141\n",
       "U             0.009304\n",
       "Casino        0.006476\n",
       "Leader Price  0.006080\n",
       "Hacendado     0.006055\n",
       "Cora          0.004817\n",
       "Picard        0.004143\n",
       "Delhaize      0.004093\n",
       "Eroski        0.003774"
      ]
     },
     "metadata": {},
     "output_type": "display_data"
    },
    {
     "name": "stdout",
     "output_type": "stream",
     "text": [
      "------------------------------------------------------------------------------------------\n",
      "ingredients_text: object (missing values rate: 26.15%) (duplicated values rate: 36.90%)\n",
      "------------------------------------------------------------------------------------------\n"
     ]
    },
    {
     "data": {
      "text/html": [
       "<div>\n",
       "<style scoped>\n",
       "    .dataframe tbody tr th:only-of-type {\n",
       "        vertical-align: middle;\n",
       "    }\n",
       "\n",
       "    .dataframe tbody tr th {\n",
       "        vertical-align: top;\n",
       "    }\n",
       "\n",
       "    .dataframe thead th {\n",
       "        text-align: right;\n",
       "    }\n",
       "</style>\n",
       "<table border=\"1\" class=\"dataframe\">\n",
       "  <thead>\n",
       "    <tr style=\"text-align: right;\">\n",
       "      <th></th>\n",
       "      <th>ingredients_text</th>\n",
       "    </tr>\n",
       "  </thead>\n",
       "  <tbody>\n",
       "    <tr>\n",
       "      <th>count</th>\n",
       "      <td>371451</td>\n",
       "    </tr>\n",
       "    <tr>\n",
       "      <th>unique</th>\n",
       "      <td>317386</td>\n",
       "    </tr>\n",
       "    <tr>\n",
       "      <th>top</th>\n",
       "      <td>Almonds.</td>\n",
       "    </tr>\n",
       "    <tr>\n",
       "      <th>freq</th>\n",
       "      <td>290</td>\n",
       "    </tr>\n",
       "  </tbody>\n",
       "</table>\n",
       "</div>"
      ],
      "text/plain": [
       "       ingredients_text\n",
       "count            371451\n",
       "unique           317386\n",
       "top            Almonds.\n",
       "freq                290"
      ]
     },
     "metadata": {},
     "output_type": "display_data"
    },
    {
     "data": {
      "text/html": [
       "<div>\n",
       "<style scoped>\n",
       "    .dataframe tbody tr th:only-of-type {\n",
       "        vertical-align: middle;\n",
       "    }\n",
       "\n",
       "    .dataframe tbody tr th {\n",
       "        vertical-align: top;\n",
       "    }\n",
       "\n",
       "    .dataframe thead th {\n",
       "        text-align: right;\n",
       "    }\n",
       "</style>\n",
       "<table border=\"1\" class=\"dataframe\">\n",
       "  <thead>\n",
       "    <tr style=\"text-align: right;\">\n",
       "      <th></th>\n",
       "      <th>ingredients_text</th>\n",
       "    </tr>\n",
       "  </thead>\n",
       "  <tbody>\n",
       "    <tr>\n",
       "      <th>40519</th>\n",
       "      <td>Water, sorbitol, potassium lactate, dextrose, ...</td>\n",
       "    </tr>\n",
       "    <tr>\n",
       "      <th>203394</th>\n",
       "      <td>Infusion de thé noir (dosage de l'extrait sec:...</td>\n",
       "    </tr>\n",
       "    <tr>\n",
       "      <th>254367</th>\n",
       "      <td>Milk chocolate (*sugar, cocoa butter, *unsweet...</td>\n",
       "    </tr>\n",
       "    <tr>\n",
       "      <th>385199</th>\n",
       "      <td>Fillo dough (enriched flour [wheat flour, malt...</td>\n",
       "    </tr>\n",
       "    <tr>\n",
       "      <th>242979</th>\n",
       "      <td>Brown rice flour, whole grain yellow corn, sea...</td>\n",
       "    </tr>\n",
       "    <tr>\n",
       "      <th>145276</th>\n",
       "      <td>Enriched bleached wheat flour (wheat flour, ni...</td>\n",
       "    </tr>\n",
       "    <tr>\n",
       "      <th>178807</th>\n",
       "      <td>Maltodextrine, concentré de protéines de _LACT...</td>\n",
       "    </tr>\n",
       "    <tr>\n",
       "      <th>474960</th>\n",
       "      <td>_Céleri_ rave râpé 70 %, eau, huile de colza, ...</td>\n",
       "    </tr>\n",
       "    <tr>\n",
       "      <th>147467</th>\n",
       "      <td>Reduced fat provolone cheese (cultured pasteur...</td>\n",
       "    </tr>\n",
       "    <tr>\n",
       "      <th>70604</th>\n",
       "      <td>Foie gras de canard du Sud-Ouest, morceaux de ...</td>\n",
       "    </tr>\n",
       "  </tbody>\n",
       "</table>\n",
       "</div>"
      ],
      "text/plain": [
       "                                         ingredients_text\n",
       "40519   Water, sorbitol, potassium lactate, dextrose, ...\n",
       "203394  Infusion de thé noir (dosage de l'extrait sec:...\n",
       "254367  Milk chocolate (*sugar, cocoa butter, *unsweet...\n",
       "385199  Fillo dough (enriched flour [wheat flour, malt...\n",
       "242979  Brown rice flour, whole grain yellow corn, sea...\n",
       "145276  Enriched bleached wheat flour (wheat flour, ni...\n",
       "178807  Maltodextrine, concentré de protéines de _LACT...\n",
       "474960  _Céleri_ rave râpé 70 %, eau, huile de colza, ...\n",
       "147467  Reduced fat provolone cheese (cultured pasteur...\n",
       "70604   Foie gras de canard du Sud-Ouest, morceaux de ..."
      ]
     },
     "metadata": {},
     "output_type": "display_data"
    },
    {
     "data": {
      "text/html": [
       "<div>\n",
       "<style scoped>\n",
       "    .dataframe tbody tr th:only-of-type {\n",
       "        vertical-align: middle;\n",
       "    }\n",
       "\n",
       "    .dataframe tbody tr th {\n",
       "        vertical-align: top;\n",
       "    }\n",
       "\n",
       "    .dataframe thead th {\n",
       "        text-align: right;\n",
       "    }\n",
       "</style>\n",
       "<table border=\"1\" class=\"dataframe\">\n",
       "  <thead>\n",
       "    <tr style=\"text-align: right;\">\n",
       "      <th></th>\n",
       "      <th>ingredients_text</th>\n",
       "    </tr>\n",
       "  </thead>\n",
       "  <tbody>\n",
       "    <tr>\n",
       "      <th>Almonds.</th>\n",
       "      <td>0.000781</td>\n",
       "    </tr>\n",
       "    <tr>\n",
       "      <th>Semolina (wheat), durum flour (wheat), niacin, ferrous sulfate (iron), thiamin mononitrate, riboflavin, folic acid.</th>\n",
       "      <td>0.000614</td>\n",
       "    </tr>\n",
       "    <tr>\n",
       "      <th>Pasteurized milk, cheese culture, salt, enzymes, annatto (vegetable color).</th>\n",
       "      <td>0.000571</td>\n",
       "    </tr>\n",
       "    <tr>\n",
       "      <th>Green beans, water, salt.</th>\n",
       "      <td>0.000568</td>\n",
       "    </tr>\n",
       "    <tr>\n",
       "      <th>Walnuts.</th>\n",
       "      <td>0.000498</td>\n",
       "    </tr>\n",
       "    <tr>\n",
       "      <th>Pasteurized milk, cheese culture, salt, enzymes.</th>\n",
       "      <td>0.000490</td>\n",
       "    </tr>\n",
       "    <tr>\n",
       "      <th>Broccoli.</th>\n",
       "      <td>0.000463</td>\n",
       "    </tr>\n",
       "    <tr>\n",
       "      <th>Pecans.</th>\n",
       "      <td>0.000455</td>\n",
       "    </tr>\n",
       "    <tr>\n",
       "      <th>Green beans.</th>\n",
       "      <td>0.000423</td>\n",
       "    </tr>\n",
       "    <tr>\n",
       "      <th>Corn.</th>\n",
       "      <td>0.000396</td>\n",
       "    </tr>\n",
       "  </tbody>\n",
       "</table>\n",
       "</div>"
      ],
      "text/plain": [
       "                                                    ingredients_text\n",
       "Almonds.                                                    0.000781\n",
       "Semolina (wheat), durum flour (wheat), niacin, ...          0.000614\n",
       "Pasteurized milk, cheese culture, salt, enzymes...          0.000571\n",
       "Green beans, water, salt.                                   0.000568\n",
       "Walnuts.                                                    0.000498\n",
       "Pasteurized milk, cheese culture, salt, enzymes.            0.000490\n",
       "Broccoli.                                                   0.000463\n",
       "Pecans.                                                     0.000455\n",
       "Green beans.                                                0.000423\n",
       "Corn.                                                       0.000396"
      ]
     },
     "metadata": {},
     "output_type": "display_data"
    },
    {
     "name": "stdout",
     "output_type": "stream",
     "text": [
      "------------------------------------------------------------------------------------------\n",
      "additives_n: float64 (missing values rate: 26.15%) (duplicated values rate: 99.99%)\n",
      "------------------------------------------------------------------------------------------\n"
     ]
    },
    {
     "data": {
      "text/html": [
       "<div>\n",
       "<style scoped>\n",
       "    .dataframe tbody tr th:only-of-type {\n",
       "        vertical-align: middle;\n",
       "    }\n",
       "\n",
       "    .dataframe tbody tr th {\n",
       "        vertical-align: top;\n",
       "    }\n",
       "\n",
       "    .dataframe thead th {\n",
       "        text-align: right;\n",
       "    }\n",
       "</style>\n",
       "<table border=\"1\" class=\"dataframe\">\n",
       "  <thead>\n",
       "    <tr style=\"text-align: right;\">\n",
       "      <th></th>\n",
       "      <th>additives_n</th>\n",
       "    </tr>\n",
       "  </thead>\n",
       "  <tbody>\n",
       "    <tr>\n",
       "      <th>count</th>\n",
       "      <td>371451.000000</td>\n",
       "    </tr>\n",
       "    <tr>\n",
       "      <th>mean</th>\n",
       "      <td>2.164509</td>\n",
       "    </tr>\n",
       "    <tr>\n",
       "      <th>std</th>\n",
       "      <td>3.045868</td>\n",
       "    </tr>\n",
       "    <tr>\n",
       "      <th>min</th>\n",
       "      <td>0.000000</td>\n",
       "    </tr>\n",
       "    <tr>\n",
       "      <th>25%</th>\n",
       "      <td>0.000000</td>\n",
       "    </tr>\n",
       "    <tr>\n",
       "      <th>50%</th>\n",
       "      <td>1.000000</td>\n",
       "    </tr>\n",
       "    <tr>\n",
       "      <th>75%</th>\n",
       "      <td>3.000000</td>\n",
       "    </tr>\n",
       "    <tr>\n",
       "      <th>max</th>\n",
       "      <td>39.000000</td>\n",
       "    </tr>\n",
       "  </tbody>\n",
       "</table>\n",
       "</div>"
      ],
      "text/plain": [
       "         additives_n\n",
       "count  371451.000000\n",
       "mean        2.164509\n",
       "std         3.045868\n",
       "min         0.000000\n",
       "25%         0.000000\n",
       "50%         1.000000\n",
       "75%         3.000000\n",
       "max        39.000000"
      ]
     },
     "metadata": {},
     "output_type": "display_data"
    },
    {
     "data": {
      "text/html": [
       "<div>\n",
       "<style scoped>\n",
       "    .dataframe tbody tr th:only-of-type {\n",
       "        vertical-align: middle;\n",
       "    }\n",
       "\n",
       "    .dataframe tbody tr th {\n",
       "        vertical-align: top;\n",
       "    }\n",
       "\n",
       "    .dataframe thead th {\n",
       "        text-align: right;\n",
       "    }\n",
       "</style>\n",
       "<table border=\"1\" class=\"dataframe\">\n",
       "  <thead>\n",
       "    <tr style=\"text-align: right;\">\n",
       "      <th></th>\n",
       "      <th>additives_n</th>\n",
       "    </tr>\n",
       "  </thead>\n",
       "  <tbody>\n",
       "    <tr>\n",
       "      <th>91250</th>\n",
       "      <td>0.0</td>\n",
       "    </tr>\n",
       "    <tr>\n",
       "      <th>264257</th>\n",
       "      <td>0.0</td>\n",
       "    </tr>\n",
       "    <tr>\n",
       "      <th>23725</th>\n",
       "      <td>1.0</td>\n",
       "    </tr>\n",
       "    <tr>\n",
       "      <th>12957</th>\n",
       "      <td>0.0</td>\n",
       "    </tr>\n",
       "    <tr>\n",
       "      <th>12019</th>\n",
       "      <td>11.0</td>\n",
       "    </tr>\n",
       "    <tr>\n",
       "      <th>58262</th>\n",
       "      <td>3.0</td>\n",
       "    </tr>\n",
       "    <tr>\n",
       "      <th>133653</th>\n",
       "      <td>2.0</td>\n",
       "    </tr>\n",
       "    <tr>\n",
       "      <th>4045</th>\n",
       "      <td>0.0</td>\n",
       "    </tr>\n",
       "    <tr>\n",
       "      <th>487710</th>\n",
       "      <td>1.0</td>\n",
       "    </tr>\n",
       "    <tr>\n",
       "      <th>425990</th>\n",
       "      <td>1.0</td>\n",
       "    </tr>\n",
       "  </tbody>\n",
       "</table>\n",
       "</div>"
      ],
      "text/plain": [
       "        additives_n\n",
       "91250           0.0\n",
       "264257          0.0\n",
       "23725           1.0\n",
       "12957           0.0\n",
       "12019          11.0\n",
       "58262           3.0\n",
       "133653          2.0\n",
       "4045            0.0\n",
       "487710          1.0\n",
       "425990          1.0"
      ]
     },
     "metadata": {},
     "output_type": "display_data"
    },
    {
     "data": {
      "text/html": [
       "<div>\n",
       "<style scoped>\n",
       "    .dataframe tbody tr th:only-of-type {\n",
       "        vertical-align: middle;\n",
       "    }\n",
       "\n",
       "    .dataframe tbody tr th {\n",
       "        vertical-align: top;\n",
       "    }\n",
       "\n",
       "    .dataframe thead th {\n",
       "        text-align: right;\n",
       "    }\n",
       "</style>\n",
       "<table border=\"1\" class=\"dataframe\">\n",
       "  <thead>\n",
       "    <tr style=\"text-align: right;\">\n",
       "      <th></th>\n",
       "      <th>additives_n</th>\n",
       "    </tr>\n",
       "  </thead>\n",
       "  <tbody>\n",
       "    <tr>\n",
       "      <th>0.0</th>\n",
       "      <td>0.396631</td>\n",
       "    </tr>\n",
       "    <tr>\n",
       "      <th>1.0</th>\n",
       "      <td>0.181814</td>\n",
       "    </tr>\n",
       "    <tr>\n",
       "      <th>2.0</th>\n",
       "      <td>0.115859</td>\n",
       "    </tr>\n",
       "    <tr>\n",
       "      <th>3.0</th>\n",
       "      <td>0.081265</td>\n",
       "    </tr>\n",
       "    <tr>\n",
       "      <th>4.0</th>\n",
       "      <td>0.062369</td>\n",
       "    </tr>\n",
       "    <tr>\n",
       "      <th>5.0</th>\n",
       "      <td>0.044356</td>\n",
       "    </tr>\n",
       "    <tr>\n",
       "      <th>6.0</th>\n",
       "      <td>0.031552</td>\n",
       "    </tr>\n",
       "    <tr>\n",
       "      <th>7.0</th>\n",
       "      <td>0.023104</td>\n",
       "    </tr>\n",
       "    <tr>\n",
       "      <th>8.0</th>\n",
       "      <td>0.017857</td>\n",
       "    </tr>\n",
       "    <tr>\n",
       "      <th>9.0</th>\n",
       "      <td>0.012042</td>\n",
       "    </tr>\n",
       "    <tr>\n",
       "      <th>10.0</th>\n",
       "      <td>0.008569</td>\n",
       "    </tr>\n",
       "  </tbody>\n",
       "</table>\n",
       "</div>"
      ],
      "text/plain": [
       "      additives_n\n",
       "0.0      0.396631\n",
       "1.0      0.181814\n",
       "2.0      0.115859\n",
       "3.0      0.081265\n",
       "4.0      0.062369\n",
       "5.0      0.044356\n",
       "6.0      0.031552\n",
       "7.0      0.023104\n",
       "8.0      0.017857\n",
       "9.0      0.012042\n",
       "10.0     0.008569"
      ]
     },
     "metadata": {},
     "output_type": "display_data"
    },
    {
     "name": "stdout",
     "output_type": "stream",
     "text": [
      "------------------------------------------------------------------------------------------\n",
      "ingredients_that_may_be_from_palm_oil_n: float64 (missing values rate: 26.15%) (duplicated values rate: 100.00%)\n",
      "------------------------------------------------------------------------------------------\n"
     ]
    },
    {
     "data": {
      "text/html": [
       "<div>\n",
       "<style scoped>\n",
       "    .dataframe tbody tr th:only-of-type {\n",
       "        vertical-align: middle;\n",
       "    }\n",
       "\n",
       "    .dataframe tbody tr th {\n",
       "        vertical-align: top;\n",
       "    }\n",
       "\n",
       "    .dataframe thead th {\n",
       "        text-align: right;\n",
       "    }\n",
       "</style>\n",
       "<table border=\"1\" class=\"dataframe\">\n",
       "  <thead>\n",
       "    <tr style=\"text-align: right;\">\n",
       "      <th></th>\n",
       "      <th>ingredients_that_may_be_from_palm_oil_n</th>\n",
       "    </tr>\n",
       "  </thead>\n",
       "  <tbody>\n",
       "    <tr>\n",
       "      <th>count</th>\n",
       "      <td>371451.000000</td>\n",
       "    </tr>\n",
       "    <tr>\n",
       "      <th>mean</th>\n",
       "      <td>0.071027</td>\n",
       "    </tr>\n",
       "    <tr>\n",
       "      <th>std</th>\n",
       "      <td>0.306176</td>\n",
       "    </tr>\n",
       "    <tr>\n",
       "      <th>min</th>\n",
       "      <td>0.000000</td>\n",
       "    </tr>\n",
       "    <tr>\n",
       "      <th>25%</th>\n",
       "      <td>0.000000</td>\n",
       "    </tr>\n",
       "    <tr>\n",
       "      <th>50%</th>\n",
       "      <td>0.000000</td>\n",
       "    </tr>\n",
       "    <tr>\n",
       "      <th>75%</th>\n",
       "      <td>0.000000</td>\n",
       "    </tr>\n",
       "    <tr>\n",
       "      <th>max</th>\n",
       "      <td>6.000000</td>\n",
       "    </tr>\n",
       "  </tbody>\n",
       "</table>\n",
       "</div>"
      ],
      "text/plain": [
       "       ingredients_that_may_be_from_palm_oil_n\n",
       "count                            371451.000000\n",
       "mean                                  0.071027\n",
       "std                                   0.306176\n",
       "min                                   0.000000\n",
       "25%                                   0.000000\n",
       "50%                                   0.000000\n",
       "75%                                   0.000000\n",
       "max                                   6.000000"
      ]
     },
     "metadata": {},
     "output_type": "display_data"
    },
    {
     "data": {
      "text/html": [
       "<div>\n",
       "<style scoped>\n",
       "    .dataframe tbody tr th:only-of-type {\n",
       "        vertical-align: middle;\n",
       "    }\n",
       "\n",
       "    .dataframe tbody tr th {\n",
       "        vertical-align: top;\n",
       "    }\n",
       "\n",
       "    .dataframe thead th {\n",
       "        text-align: right;\n",
       "    }\n",
       "</style>\n",
       "<table border=\"1\" class=\"dataframe\">\n",
       "  <thead>\n",
       "    <tr style=\"text-align: right;\">\n",
       "      <th></th>\n",
       "      <th>ingredients_that_may_be_from_palm_oil_n</th>\n",
       "    </tr>\n",
       "  </thead>\n",
       "  <tbody>\n",
       "    <tr>\n",
       "      <th>492003</th>\n",
       "      <td>0.0</td>\n",
       "    </tr>\n",
       "    <tr>\n",
       "      <th>118449</th>\n",
       "      <td>0.0</td>\n",
       "    </tr>\n",
       "    <tr>\n",
       "      <th>392492</th>\n",
       "      <td>0.0</td>\n",
       "    </tr>\n",
       "    <tr>\n",
       "      <th>107852</th>\n",
       "      <td>0.0</td>\n",
       "    </tr>\n",
       "    <tr>\n",
       "      <th>113248</th>\n",
       "      <td>0.0</td>\n",
       "    </tr>\n",
       "    <tr>\n",
       "      <th>178967</th>\n",
       "      <td>0.0</td>\n",
       "    </tr>\n",
       "    <tr>\n",
       "      <th>216324</th>\n",
       "      <td>0.0</td>\n",
       "    </tr>\n",
       "    <tr>\n",
       "      <th>309270</th>\n",
       "      <td>0.0</td>\n",
       "    </tr>\n",
       "    <tr>\n",
       "      <th>376126</th>\n",
       "      <td>0.0</td>\n",
       "    </tr>\n",
       "    <tr>\n",
       "      <th>467540</th>\n",
       "      <td>0.0</td>\n",
       "    </tr>\n",
       "  </tbody>\n",
       "</table>\n",
       "</div>"
      ],
      "text/plain": [
       "        ingredients_that_may_be_from_palm_oil_n\n",
       "492003                                      0.0\n",
       "118449                                      0.0\n",
       "392492                                      0.0\n",
       "107852                                      0.0\n",
       "113248                                      0.0\n",
       "178967                                      0.0\n",
       "216324                                      0.0\n",
       "309270                                      0.0\n",
       "376126                                      0.0\n",
       "467540                                      0.0"
      ]
     },
     "metadata": {},
     "output_type": "display_data"
    },
    {
     "data": {
      "text/html": [
       "<div>\n",
       "<style scoped>\n",
       "    .dataframe tbody tr th:only-of-type {\n",
       "        vertical-align: middle;\n",
       "    }\n",
       "\n",
       "    .dataframe tbody tr th {\n",
       "        vertical-align: top;\n",
       "    }\n",
       "\n",
       "    .dataframe thead th {\n",
       "        text-align: right;\n",
       "    }\n",
       "</style>\n",
       "<table border=\"1\" class=\"dataframe\">\n",
       "  <thead>\n",
       "    <tr style=\"text-align: right;\">\n",
       "      <th></th>\n",
       "      <th>ingredients_that_may_be_from_palm_oil_n</th>\n",
       "    </tr>\n",
       "  </thead>\n",
       "  <tbody>\n",
       "    <tr>\n",
       "      <th>0.0</th>\n",
       "      <td>0.940132</td>\n",
       "    </tr>\n",
       "    <tr>\n",
       "      <th>1.0</th>\n",
       "      <td>0.051000</td>\n",
       "    </tr>\n",
       "    <tr>\n",
       "      <th>2.0</th>\n",
       "      <td>0.006975</td>\n",
       "    </tr>\n",
       "    <tr>\n",
       "      <th>3.0</th>\n",
       "      <td>0.001524</td>\n",
       "    </tr>\n",
       "    <tr>\n",
       "      <th>4.0</th>\n",
       "      <td>0.000342</td>\n",
       "    </tr>\n",
       "    <tr>\n",
       "      <th>5.0</th>\n",
       "      <td>0.000024</td>\n",
       "    </tr>\n",
       "    <tr>\n",
       "      <th>6.0</th>\n",
       "      <td>0.000003</td>\n",
       "    </tr>\n",
       "  </tbody>\n",
       "</table>\n",
       "</div>"
      ],
      "text/plain": [
       "     ingredients_that_may_be_from_palm_oil_n\n",
       "0.0                                 0.940132\n",
       "1.0                                 0.051000\n",
       "2.0                                 0.006975\n",
       "3.0                                 0.001524\n",
       "4.0                                 0.000342\n",
       "5.0                                 0.000024\n",
       "6.0                                 0.000003"
      ]
     },
     "metadata": {},
     "output_type": "display_data"
    },
    {
     "name": "stdout",
     "output_type": "stream",
     "text": [
      "------------------------------------------------------------------------------------------\n",
      "ingredients_from_palm_oil_n: float64 (missing values rate: 26.15%) (duplicated values rate: 100.00%)\n",
      "------------------------------------------------------------------------------------------\n"
     ]
    },
    {
     "data": {
      "text/html": [
       "<div>\n",
       "<style scoped>\n",
       "    .dataframe tbody tr th:only-of-type {\n",
       "        vertical-align: middle;\n",
       "    }\n",
       "\n",
       "    .dataframe tbody tr th {\n",
       "        vertical-align: top;\n",
       "    }\n",
       "\n",
       "    .dataframe thead th {\n",
       "        text-align: right;\n",
       "    }\n",
       "</style>\n",
       "<table border=\"1\" class=\"dataframe\">\n",
       "  <thead>\n",
       "    <tr style=\"text-align: right;\">\n",
       "      <th></th>\n",
       "      <th>ingredients_from_palm_oil_n</th>\n",
       "    </tr>\n",
       "  </thead>\n",
       "  <tbody>\n",
       "    <tr>\n",
       "      <th>count</th>\n",
       "      <td>371451.000000</td>\n",
       "    </tr>\n",
       "    <tr>\n",
       "      <th>mean</th>\n",
       "      <td>0.019392</td>\n",
       "    </tr>\n",
       "    <tr>\n",
       "      <th>std</th>\n",
       "      <td>0.139681</td>\n",
       "    </tr>\n",
       "    <tr>\n",
       "      <th>min</th>\n",
       "      <td>0.000000</td>\n",
       "    </tr>\n",
       "    <tr>\n",
       "      <th>25%</th>\n",
       "      <td>0.000000</td>\n",
       "    </tr>\n",
       "    <tr>\n",
       "      <th>50%</th>\n",
       "      <td>0.000000</td>\n",
       "    </tr>\n",
       "    <tr>\n",
       "      <th>75%</th>\n",
       "      <td>0.000000</td>\n",
       "    </tr>\n",
       "    <tr>\n",
       "      <th>max</th>\n",
       "      <td>2.000000</td>\n",
       "    </tr>\n",
       "  </tbody>\n",
       "</table>\n",
       "</div>"
      ],
      "text/plain": [
       "       ingredients_from_palm_oil_n\n",
       "count                371451.000000\n",
       "mean                      0.019392\n",
       "std                       0.139681\n",
       "min                       0.000000\n",
       "25%                       0.000000\n",
       "50%                       0.000000\n",
       "75%                       0.000000\n",
       "max                       2.000000"
      ]
     },
     "metadata": {},
     "output_type": "display_data"
    },
    {
     "data": {
      "text/html": [
       "<div>\n",
       "<style scoped>\n",
       "    .dataframe tbody tr th:only-of-type {\n",
       "        vertical-align: middle;\n",
       "    }\n",
       "\n",
       "    .dataframe tbody tr th {\n",
       "        vertical-align: top;\n",
       "    }\n",
       "\n",
       "    .dataframe thead th {\n",
       "        text-align: right;\n",
       "    }\n",
       "</style>\n",
       "<table border=\"1\" class=\"dataframe\">\n",
       "  <thead>\n",
       "    <tr style=\"text-align: right;\">\n",
       "      <th></th>\n",
       "      <th>ingredients_from_palm_oil_n</th>\n",
       "    </tr>\n",
       "  </thead>\n",
       "  <tbody>\n",
       "    <tr>\n",
       "      <th>453196</th>\n",
       "      <td>0.0</td>\n",
       "    </tr>\n",
       "    <tr>\n",
       "      <th>259212</th>\n",
       "      <td>0.0</td>\n",
       "    </tr>\n",
       "    <tr>\n",
       "      <th>202691</th>\n",
       "      <td>0.0</td>\n",
       "    </tr>\n",
       "    <tr>\n",
       "      <th>296628</th>\n",
       "      <td>0.0</td>\n",
       "    </tr>\n",
       "    <tr>\n",
       "      <th>307208</th>\n",
       "      <td>0.0</td>\n",
       "    </tr>\n",
       "    <tr>\n",
       "      <th>374463</th>\n",
       "      <td>0.0</td>\n",
       "    </tr>\n",
       "    <tr>\n",
       "      <th>460314</th>\n",
       "      <td>0.0</td>\n",
       "    </tr>\n",
       "    <tr>\n",
       "      <th>500748</th>\n",
       "      <td>0.0</td>\n",
       "    </tr>\n",
       "    <tr>\n",
       "      <th>209970</th>\n",
       "      <td>0.0</td>\n",
       "    </tr>\n",
       "    <tr>\n",
       "      <th>224698</th>\n",
       "      <td>0.0</td>\n",
       "    </tr>\n",
       "  </tbody>\n",
       "</table>\n",
       "</div>"
      ],
      "text/plain": [
       "        ingredients_from_palm_oil_n\n",
       "453196                          0.0\n",
       "259212                          0.0\n",
       "202691                          0.0\n",
       "296628                          0.0\n",
       "307208                          0.0\n",
       "374463                          0.0\n",
       "460314                          0.0\n",
       "500748                          0.0\n",
       "209970                          0.0\n",
       "224698                          0.0"
      ]
     },
     "metadata": {},
     "output_type": "display_data"
    },
    {
     "data": {
      "text/html": [
       "<div>\n",
       "<style scoped>\n",
       "    .dataframe tbody tr th:only-of-type {\n",
       "        vertical-align: middle;\n",
       "    }\n",
       "\n",
       "    .dataframe tbody tr th {\n",
       "        vertical-align: top;\n",
       "    }\n",
       "\n",
       "    .dataframe thead th {\n",
       "        text-align: right;\n",
       "    }\n",
       "</style>\n",
       "<table border=\"1\" class=\"dataframe\">\n",
       "  <thead>\n",
       "    <tr style=\"text-align: right;\">\n",
       "      <th></th>\n",
       "      <th>ingredients_from_palm_oil_n</th>\n",
       "    </tr>\n",
       "  </thead>\n",
       "  <tbody>\n",
       "    <tr>\n",
       "      <th>0.0</th>\n",
       "      <td>0.980856</td>\n",
       "    </tr>\n",
       "    <tr>\n",
       "      <th>1.0</th>\n",
       "      <td>0.018896</td>\n",
       "    </tr>\n",
       "    <tr>\n",
       "      <th>2.0</th>\n",
       "      <td>0.000248</td>\n",
       "    </tr>\n",
       "  </tbody>\n",
       "</table>\n",
       "</div>"
      ],
      "text/plain": [
       "     ingredients_from_palm_oil_n\n",
       "0.0                     0.980856\n",
       "1.0                     0.018896\n",
       "2.0                     0.000248"
      ]
     },
     "metadata": {},
     "output_type": "display_data"
    }
   ],
   "source": [
    "for f in _features:\n",
    "    print(f\"\"\"{90*'-'}\n",
    "{f}: {_df_train[f].dtypes} (missing values rate: {_serie[f]:.2%}) (duplicated values rate: {_df_train[f].duplicated().sum() / len(_df_train[f]):.2%})\n",
    "{90*'-'}\"\"\")\n",
    "    display(pd.DataFrame(_df_train[f].describe()))\n",
    "    display(pd.DataFrame(_df_train[f].dropna().sample(10)))\n",
    "    display(pd.DataFrame(_df_train[f].value_counts(normalize = True)[:10]))"
   ]
  },
  {
   "cell_type": "markdown",
   "metadata": {},
   "source": [
    "- additives_tags :\n",
    "    - split et convertir en dummies variables\n",
    "    - knn imputer (ajouter le reste des variables ?) (sans nutriscore)\n",
    "\n",
    "\n",
    "- serving_size :    \n",
    "    - extraire uniquement le poids en gramme\n",
    "    - regarder si valeurs abérantes, si oui les supprimer ou appliquer une normalisation\n",
    "    - knn imputer (ajouter le reste des variables ?) (sans nutriscore)\n",
    "   \n",
    "   \n",
    "- image_small_url :\n",
    "    - même information que dans image_url : à supprimer\n",
    "\n",
    "\n",
    "- image_url :\n",
    "    - télécharger les images en local\n",
    "    - extraire des variables (voir [Kumar & Kumar Bhatia, 2014](https://www.researchgate.net/publication/260952140_A_Detailed_Review_of_Feature_Extraction_in_Image_Processing_Systems))\n",
    "    - imputation possible avec une autre source de données (voir si faisable)\n",
    "   \n",
    "   \n",
    "- brands_tags:\n",
    "    - doublons avec brands mais à privilégié car moins de valeur unique\n",
    "    - normaliser en passant en lower\n",
    "    - split et convertir en dummies variables \n",
    "    - imputation avec brands à l'aide d'un dictionnaire d'équivalence \n",
    "    - knn imputer (completer avec store ?) (sans nutriscore)\n",
    "    \n",
    "    \n",
    "- brands:\n",
    "    - à supprimer après preprocessing de brands_tags\n",
    "    \n",
    "    \n",
    "- ingredients_text:\n",
    "    - détecter la languer\n",
    "    - préprocesser la texte (lower, stemmer, poncuation, stop word)\n",
    "    - BOW\n",
    "    - knn imputer (sans nutriscore)\n",
    "  \n",
    "  \n",
    "- ingredients_that_may_be_from_palm_oil_n:\n",
    "    - regarder si valeurs abérantes, si oui les supprimer ou appliquer une normalisation\n",
    "    - knn imputer\n",
    "    \n",
    "- ingredients_from_palm_oil_n:\n",
    "    - idem que ingredients_that_may_be_from_palm_oil_n\n",
    "    \n",
    "- additives_n:\n",
    "    - idem que ingredients_that_may_be_from_palm_oil_n \n",
    "\n",
    "> **/!\\ appliquer l'imputation des données manquantes après préprocessing de l'ensemble des variables et après l'analyse des corrélations (sinon celle-ci sera biaisée)**\n",
    "\n",
    "\n",
    "Remarque : regarder novagroup, sugar, protein"
   ]
  },
  {
   "cell_type": "markdown",
   "metadata": {},
   "source": [
    "## Data preprocessing"
   ]
  },
  {
   "cell_type": "markdown",
   "metadata": {},
   "source": [
    "### additives_tags"
   ]
  },
  {
   "cell_type": "code",
   "execution_count": 31,
   "metadata": {},
   "outputs": [],
   "source": [
    "_serie = _df_train.additives_tags.str.replace('en:', '').str.split(',')\n",
    "_series =  pd.get_dummies(_serie.dropna().apply(pd.Series).stack(), prefix = 'add').sum(level = 0)\n",
    "_features = [c for c in _series.columns if len(c) < 11]\n",
    "_series = _series[_features]\n",
    "_df_train = _df_train.merge(_series, left_index = True, right_index = True, how = 'left')"
   ]
  },
  {
   "cell_type": "code",
   "execution_count": 32,
   "metadata": {},
   "outputs": [],
   "source": [
    "del _series"
   ]
  },
  {
   "cell_type": "code",
   "execution_count": 33,
   "metadata": {},
   "outputs": [],
   "source": [
    "_df_train.drop(columns = 'additives_tags', inplace = True)"
   ]
  },
  {
   "cell_type": "code",
   "execution_count": 34,
   "metadata": {},
   "outputs": [
    {
     "data": {
      "text/plain": [
       "(502992, 502)"
      ]
     },
     "execution_count": 34,
     "metadata": {},
     "output_type": "execute_result"
    }
   ],
   "source": [
    "_df_train.shape"
   ]
  },
  {
   "cell_type": "markdown",
   "metadata": {},
   "source": [
    "### serving_size "
   ]
  },
  {
   "cell_type": "code",
   "execution_count": 35,
   "metadata": {},
   "outputs": [],
   "source": [
    "def serving_size_preprocessing(_v):\n",
    "    pat = '([0-9]+,[0-9]+\\s+x)|([0-9]*\\.[0-9]+\\s+x)|([0-9]+\\.[0-9]+x)|([0-9]+,[0-9]+x)|([0-9]+x)|([0-9]+\\s+x)'\n",
    "    try:\n",
    "        _v = _v.lower()\n",
    "        metric = 'g' \n",
    "        _pat = re.sub('x', metric, pat)\n",
    "        if re.search(_pat, _v):\n",
    "            _r = re.search(_pat, _v).group()\n",
    "            _r = re.sub(metric, '', _r)\n",
    "            _r = re.sub(',', '.', _r)\n",
    "            return float(_r.strip())\n",
    "        else:\n",
    "            metric = 'ml' \n",
    "            _pat = re.sub('x', metric, pat)\n",
    "            if re.search(_pat, _v):\n",
    "                _r = re.search(_pat, _v).group()\n",
    "                _r = re.sub(metric, '', _r)\n",
    "                _r = re.sub(',', '.', _r)\n",
    "                return float(_r.strip())\n",
    "            else:\n",
    "                metric = 'l' \n",
    "                _pat = re.sub('x', metric, pat)\n",
    "                if re.search(_pat, _v):\n",
    "                    _r = re.search(_pat, _v).group()\n",
    "                    _r = re.sub(metric, '', _r)\n",
    "                    _r = re.sub(',', '.', _r)\n",
    "                    return float(_r.strip()) * 1000\n",
    "                else:\n",
    "                    metric = 'cl' \n",
    "                    _pat = re.sub('x', metric, pat)\n",
    "                    if re.search(_pat, _v):\n",
    "                        _r = re.search(_pat, _v).group()\n",
    "                        _r = re.sub(metric, '', _r)\n",
    "                        _r = re.sub(',', '.', _r)\n",
    "                        return float(_r.strip()) * 10\n",
    "                    else:\n",
    "                        metric = 'oz' \n",
    "                        _pat = re.sub('x', metric, pat)\n",
    "                        if re.search(_pat, _v):\n",
    "                            _r = re.search(_pat, _v).group()\n",
    "                            _r = re.sub(metric, '', _r)\n",
    "                            _r = re.sub(',', '.', _r)\n",
    "                            return float(_r.strip()) * 28.3495\n",
    "                        else:\n",
    "                            metric = 'kg' \n",
    "                            _pat = re.sub('x', metric, pat)\n",
    "                            if re.search(_pat, _v):\n",
    "                                _r = re.search(_pat, _v).group()\n",
    "                                _r = re.sub(metric, '', _r)\n",
    "                                _r = re.sub(',', '.', _r)\n",
    "                                return float(_r.strip()) * 1000\n",
    "\n",
    "    except:\n",
    "        return np.NaN"
   ]
  },
  {
   "cell_type": "code",
   "execution_count": 36,
   "metadata": {},
   "outputs": [
    {
     "name": "stderr",
     "output_type": "stream",
     "text": [
      "100%|██████████| 502992/502992 [00:08<00:00, 56830.89it/s]\n"
     ]
    }
   ],
   "source": [
    "_df_train.serving_size = _df_train.serving_size.progress_apply(serving_size_preprocessing)"
   ]
  },
  {
   "cell_type": "code",
   "execution_count": 37,
   "metadata": {},
   "outputs": [
    {
     "data": {
      "text/plain": [
       "count     268799.000000\n",
       "mean          95.166568\n",
       "std         2111.478895\n",
       "min            0.000000\n",
       "25%           29.000000\n",
       "50%           52.000000\n",
       "75%          113.000000\n",
       "max      1000000.000000\n",
       "Name: serving_size, dtype: float64"
      ]
     },
     "execution_count": 37,
     "metadata": {},
     "output_type": "execute_result"
    }
   ],
   "source": [
    "_df_train.serving_size.describe()"
   ]
  },
  {
   "cell_type": "code",
   "execution_count": 38,
   "metadata": {},
   "outputs": [
    {
     "data": {
      "image/png": "[encoded data removed]",
      "text/plain": [
       "<Figure size 864x216 with 1 Axes>"
      ]
     },
     "metadata": {
      "needs_background": "light"
     },
     "output_type": "display_data"
    }
   ],
   "source": [
    "plt.figure(figsize=(12, 3))\n",
    "sns.boxplot(_df_train.serving_size)\n",
    "plt.title('Serving size distribution', weight ='bold')\n",
    "plt.xscale('log')\n",
    "plt.show()"
   ]
  },
  {
   "cell_type": "code",
   "execution_count": 39,
   "metadata": {},
   "outputs": [
    {
     "data": {
      "text/plain": [
       "3000.0"
      ]
     },
     "execution_count": 39,
     "metadata": {},
     "output_type": "execute_result"
    }
   ],
   "source": [
    "_df_train.serving_size.quantile(0.9999)"
   ]
  },
  {
   "cell_type": "code",
   "execution_count": 40,
   "metadata": {},
   "outputs": [
    {
     "data": {
      "text/plain": [
       "25"
      ]
     },
     "execution_count": 40,
     "metadata": {},
     "output_type": "execute_result"
    }
   ],
   "source": [
    "(_df_train.serving_size > _df_train.serving_size.quantile(0.9999)).sum()"
   ]
  },
  {
   "cell_type": "code",
   "execution_count": 41,
   "metadata": {},
   "outputs": [],
   "source": [
    "_df_train = _df_train.loc[_df_train.serving_size < _df_train.serving_size.quantile(0.9999)]"
   ]
  },
  {
   "cell_type": "markdown",
   "metadata": {},
   "source": [
    "### image_small_url "
   ]
  },
  {
   "cell_type": "code",
   "execution_count": 42,
   "metadata": {},
   "outputs": [],
   "source": [
    "_df_train.drop(columns = 'image_small_url', inplace = True)"
   ]
  },
  {
   "cell_type": "markdown",
   "metadata": {},
   "source": [
    "### image_url "
   ]
  },
  {
   "cell_type": "code",
   "execution_count": 49,
   "metadata": {},
   "outputs": [
    {
     "name": "stderr",
     "output_type": "stream",
     "text": [
      "847it [02:02,  7.55it/s]"
     ]
    },
    {
     "name": "stdout",
     "output_type": "stream",
     "text": [
      "https://static.openfoodfacts.org/images/products/431/150/163/4295/front_fr.4.400.jpg\n"
     ]
    },
    {
     "name": "stderr",
     "output_type": "stream",
     "text": [
      "8824it [25:38,  6.17it/s]"
     ]
    },
    {
     "name": "stdout",
     "output_type": "stream",
     "text": [
      "https://static.openfoodfacts.org/images/products/invalid/front_fr.5.400.jpg\n"
     ]
    },
    {
     "name": "stderr",
     "output_type": "stream",
     "text": [
      "14606it [43:22,  5.58it/s]"
     ]
    },
    {
     "name": "stdout",
     "output_type": "stream",
     "text": [
      "https://static.openfoodfacts.org/images/products/325/654/001/0710/front_fr.4.400.jpg\n"
     ]
    },
    {
     "name": "stderr",
     "output_type": "stream",
     "text": [
      "33229it [1:38:37,  4.40it/s]"
     ]
    },
    {
     "name": "stdout",
     "output_type": "stream",
     "text": [
      "https://static.openfoodfacts.org/images/products/invalid/front_en.4.400.jpg\n"
     ]
    },
    {
     "name": "stderr",
     "output_type": "stream",
     "text": [
      "40054it [1:59:28,  3.26it/s]"
     ]
    },
    {
     "name": "stdout",
     "output_type": "stream",
     "text": [
      "https://static.openfoodfacts.org/images/products/303/349/132/2341/front_fr.4.400.jpg\n"
     ]
    },
    {
     "name": "stderr",
     "output_type": "stream",
     "text": [
      "40061it [1:59:29,  6.21it/s]"
     ]
    },
    {
     "name": "stdout",
     "output_type": "stream",
     "text": [
      "https://static.openfoodfacts.org/images/products/invalid/front_fr.19.400.jpg\n"
     ]
    },
    {
     "name": "stderr",
     "output_type": "stream",
     "text": [
      "40866it [2:02:02,  5.42it/s]"
     ]
    },
    {
     "name": "stdout",
     "output_type": "stream",
     "text": [
      "https://static.openfoodfacts.org/images/products/356/007/082/5523/front_fr.5.400.jpg\n"
     ]
    },
    {
     "name": "stderr",
     "output_type": "stream",
     "text": [
      "44134it [2:11:11,  6.41it/s]"
     ]
    },
    {
     "name": "stdout",
     "output_type": "stream",
     "text": [
      "https://static.openfoodfacts.org/images/products/322/247/689/6063/front_fr.5.400.jpg\n"
     ]
    },
    {
     "name": "stderr",
     "output_type": "stream",
     "text": [
      "49069it [2:25:01,  6.77it/s]"
     ]
    },
    {
     "name": "stdout",
     "output_type": "stream",
     "text": [
      "https://static.openfoodfacts.org/images/products/invalid/front_fr.4.400.jpg\n"
     ]
    },
    {
     "name": "stderr",
     "output_type": "stream",
     "text": [
      "56688it [2:46:25,  6.83it/s]"
     ]
    },
    {
     "name": "stdout",
     "output_type": "stream",
     "text": [
      "https://static.openfoodfacts.org/images/products/invalid/front_fr.5.400.jpg\n"
     ]
    },
    {
     "name": "stderr",
     "output_type": "stream",
     "text": [
      "61242it [2:59:33,  6.69it/s]"
     ]
    },
    {
     "name": "stdout",
     "output_type": "stream",
     "text": [
      "https://static.openfoodfacts.org/images/products/506/011/048/0005/front_en.3.400.jpg\n"
     ]
    },
    {
     "name": "stderr",
     "output_type": "stream",
     "text": [
      "62282it [3:02:31,  6.99it/s]"
     ]
    },
    {
     "name": "stdout",
     "output_type": "stream",
     "text": [
      "https://static.openfoodfacts.org/images/products/invalid/front_en.20.400.jpg\n"
     ]
    },
    {
     "name": "stderr",
     "output_type": "stream",
     "text": [
      "62927it [3:04:15,  6.84it/s]"
     ]
    },
    {
     "name": "stdout",
     "output_type": "stream",
     "text": [
      "https://static.openfoodfacts.org/images/products/431/626/852/2618/front_en.11.400.jpg\n"
     ]
    },
    {
     "name": "stderr",
     "output_type": "stream",
     "text": [
      "63082it [3:04:41,  7.36it/s]"
     ]
    },
    {
     "name": "stdout",
     "output_type": "stream",
     "text": [
      "https://static.openfoodfacts.org/images/products/invalid/front_fr.3.400.jpg\n"
     ]
    },
    {
     "name": "stderr",
     "output_type": "stream",
     "text": [
      "64043it [3:07:31,  6.34it/s]"
     ]
    },
    {
     "name": "stdout",
     "output_type": "stream",
     "text": [
      "https://static.openfoodfacts.org/images/products/007/756/725/4405/front_en.4.400.jpg\n"
     ]
    },
    {
     "name": "stderr",
     "output_type": "stream",
     "text": [
      "64049it [3:07:32,  7.39it/s]"
     ]
    },
    {
     "name": "stdout",
     "output_type": "stream",
     "text": [
      "https://static.openfoodfacts.org/images/products/invalid/front_fr.4.400.jpg\n"
     ]
    },
    {
     "name": "stderr",
     "output_type": "stream",
     "text": [
      "64544it [3:08:54,  6.40it/s]"
     ]
    },
    {
     "name": "stdout",
     "output_type": "stream",
     "text": [
      "https://static.openfoodfacts.org/images/products/376/005/904/0460/front_en.3.400.jpg\n"
     ]
    },
    {
     "name": "stderr",
     "output_type": "stream",
     "text": [
      "71140it [3:27:36,  6.30it/s]"
     ]
    },
    {
     "name": "stdout",
     "output_type": "stream",
     "text": [
      "https://static.openfoodfacts.org/images/products/325/622/167/5573/front_en.7.400.jpg\n"
     ]
    },
    {
     "name": "stderr",
     "output_type": "stream",
     "text": [
      "77757it [3:46:01,  6.91it/s]"
     ]
    },
    {
     "name": "stdout",
     "output_type": "stream",
     "text": [
      "https://static.openfoodfacts.org/images/products/invalid/front_fr.21.400.jpg\n"
     ]
    },
    {
     "name": "stderr",
     "output_type": "stream",
     "text": [
      "77916it [3:46:26,  7.02it/s]"
     ]
    },
    {
     "name": "stdout",
     "output_type": "stream",
     "text": [
      "https://static.openfoodfacts.org/images/products/invalid/front_fr.4.400.jpg\n"
     ]
    },
    {
     "name": "stderr",
     "output_type": "stream",
     "text": [
      "84679it [5:42:59,  6.51it/s]  "
     ]
    },
    {
     "name": "stdout",
     "output_type": "stream",
     "text": [
      "https://static.openfoodfacts.org/images/products/322/982/079/5829/front_fr.4.400.jpg\n"
     ]
    },
    {
     "name": "stderr",
     "output_type": "stream",
     "text": [
      "85688it [5:45:41,  4.13it/s]\n"
     ]
    }
   ],
   "source": [
    "for index, url in tqdm(_df_train.image_url.dropna().iteritems()):\n",
    "    try:\n",
    "        urllib.request.urlretrieve(url, os.path.join(storage_path, 'images', str(index) + '.jpg'))\n",
    "    except:\n",
    "        print(url)"
   ]
  },
  {
   "cell_type": "code",
   "execution_count": null,
   "metadata": {},
   "outputs": [],
   "source": []
  }
 ],
 "metadata": {
  "kernelspec": {
   "display_name": "Python 3",
   "language": "python",
   "name": "python3"
  },
  "language_info": {
   "codemirror_mode": {
    "name": "ipython",
    "version": 3
   },
   "file_extension": ".py",
   "mimetype": "text/x-python",
   "name": "python",
   "nbconvert_exporter": "python",
   "pygments_lexer": "ipython3",
   "version": "3.7.6"
  }
 },
 "nbformat": 4,
 "nbformat_minor": 4
}
